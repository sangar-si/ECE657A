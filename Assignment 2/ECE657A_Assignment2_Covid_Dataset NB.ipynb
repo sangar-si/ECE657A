{
 "cells": [
  {
   "cell_type": "code",
   "execution_count": 22,
   "metadata": {},
   "outputs": [],
   "source": [
    "import numpy as np\n",
    "import pandas as pd\n",
    "import matplotlib.pyplot as plt\n",
    "from sklearn.tree import DecisionTreeClassifier\n",
    "from sklearn.model_selection import train_test_split\n",
    "from sklearn import metrics\n",
    "from sklearn.model_selection import KFold\n",
    "from sklearn.ensemble import RandomForestClassifier\n",
    "from sklearn.ensemble import GradientBoostingClassifier\n",
    "import seaborn as sns; sns.set_theme()\n",
    "from sklearn import tree\n",
    "import graphviz\n",
    "from dtreeviz.trees import dtreeviz\n",
    "from sklearn.naive_bayes import GaussianNB"
   ]
  },
  {
   "cell_type": "code",
   "execution_count": 23,
   "metadata": {},
   "outputs": [],
   "source": [
    "df = pd.read_csv('covid_train.csv')\n",
    "df = df.dropna()\n",
    "train_length = len(df)\n",
    "df_test = pd.read_csv('covid_tests.csv')\n",
    "test_length = len(df_test)\n",
    "#df = pd.concat([df,df_test],axis=0)"
   ]
  },
  {
   "cell_type": "code",
   "execution_count": 24,
   "metadata": {},
   "outputs": [
    {
     "output_type": "stream",
     "name": "stdout",
     "text": [
      "Newmarket \t {44.048023} {-79.480239}\nOttawa \t {45.3456651} {-75.7639122}\nBrockville \t {44.61584261} {-75.70283308}\nOwen Sound \t {44.57619612} {-80.94097993}\nMississauga \t {43.6474713} {-79.7088933}\nSimcoe \t {42.84782526} {-80.30381491}\nWaterloo \t {43.46287573} {-80.52091315}\nBrantford \t {43.151811} {-80.27437415}\nGuelph \t {43.5248813} {-80.2337433}\nNew Liskeard \t {47.5092835} {-79.681632}\nBarrie \t {44.41071258} {-79.68630597}\nHamilton \t {43.2576311} {-79.87134089}\nThunder Bay \t {48.4005716} {-89.25885079999998}\nPembroke \t {45.799406} {-77.118727}\nOakville \t {43.41399692} {-79.74479581}\nKenora \t {49.76961482} {-94.48825435}\nChatham \t {42.403861} {-82.208561}\nPort Hope \t {43.96817279} {-78.28579239}\nLondon \t {42.98146842} {-81.25401572}\nThorold \t {43.1165366} {-79.2412197}\nToronto \t {43.65659125} {-79.37935801}\nStratford \t {43.3686615} {-81.00191283}\nSt. Thomas \t {42.77780366} {-81.15115646}\nPoint Edward \t {42.98641646} {-82.40480836}\nCornwall \t {45.02915233} {-74.73629779}\nSudbury \t {46.46609195} {-80.99805884}\nTimmins \t {48.47251} {-81.32875}\nPeterborough \t {44.30163229} {-78.32134748}\nWhitby \t {43.898604999999996} {-78.940341}\nBelleville \t {44.18667362} {-77.39144554}\nWindsor \t {42.3087965} {-83.0336705}\nKingston \t {44.2278735} {-76.5252108}\nNo of sets  32\n"
     ]
    }
   ],
   "source": [
    "for i in set(df.loc[:,\"Reporting_PHU_City\"]):\n",
    "    lat = set(df[df.loc[:,\"Reporting_PHU_City\"]==i].loc[:,\"Reporting_PHU_Latitude\"])\n",
    "    lon = set(df[df.loc[:,\"Reporting_PHU_City\"]==i].loc[:,\"Reporting_PHU_Longitude\"])\n",
    "    print(i,\"\\t\",lat,lon)\n",
    "print(\"No of sets \",len(set(df.loc[:,\"Reporting_PHU_City\"])))"
   ]
  },
  {
   "cell_type": "code",
   "execution_count": 25,
   "metadata": {},
   "outputs": [],
   "source": [
    "df['Age_Group'] = df['Age_Group'].replace('<20',1).replace('20s',2).replace('30s',3).replace('40s',4).replace('50s',5).replace('60s',6).replace('70s',7).replace('80s',8).replace('90s',9).replace(np.nan,7)"
   ]
  },
  {
   "cell_type": "code",
   "execution_count": 26,
   "metadata": {},
   "outputs": [
    {
     "output_type": "execute_result",
     "data": {
      "text/plain": [
       "          Age_Group Client_Gender Case_AcquisitionInfo Reporting_PHU_City  \\\n",
       "count   5830.000000          5830                 5830               5830   \n",
       "unique          NaN             4                    5                 32   \n",
       "top             NaN        FEMALE                   OB            Toronto   \n",
       "freq            NaN          3322                 5313               1902   \n",
       "mean       6.881818           NaN                  NaN                NaN   \n",
       "std        2.278423           NaN                  NaN                NaN   \n",
       "min        1.000000           NaN                  NaN                NaN   \n",
       "25%        6.000000           NaN                  NaN                NaN   \n",
       "50%        8.000000           NaN                  NaN                NaN   \n",
       "75%        9.000000           NaN                  NaN                NaN   \n",
       "max        9.000000           NaN                  NaN                NaN   \n",
       "\n",
       "       Outbreak_Related  Reporting_PHU_Latitude  Reporting_PHU_Longitude  \\\n",
       "count              5830             5830.000000              5830.000000   \n",
       "unique                1                     NaN                      NaN   \n",
       "top                 Yes                     NaN                      NaN   \n",
       "freq               5830                     NaN                      NaN   \n",
       "mean                NaN               43.749366               -79.564563   \n",
       "std                 NaN                0.848822                 1.784394   \n",
       "min                 NaN               42.308796               -94.488254   \n",
       "25%                 NaN               43.462876               -79.744796   \n",
       "50%                 NaN               43.656591               -79.379358   \n",
       "75%                 NaN               43.898605               -79.379358   \n",
       "max                 NaN               49.769615               -74.736298   \n",
       "\n",
       "       Outcome1  \n",
       "count      5830  \n",
       "unique        3  \n",
       "top       Fatal  \n",
       "freq       3747  \n",
       "mean        NaN  \n",
       "std         NaN  \n",
       "min         NaN  \n",
       "25%         NaN  \n",
       "50%         NaN  \n",
       "75%         NaN  \n",
       "max         NaN  "
      ],
      "text/html": "<div>\n<style scoped>\n    .dataframe tbody tr th:only-of-type {\n        vertical-align: middle;\n    }\n\n    .dataframe tbody tr th {\n        vertical-align: top;\n    }\n\n    .dataframe thead th {\n        text-align: right;\n    }\n</style>\n<table border=\"1\" class=\"dataframe\">\n  <thead>\n    <tr style=\"text-align: right;\">\n      <th></th>\n      <th>Age_Group</th>\n      <th>Client_Gender</th>\n      <th>Case_AcquisitionInfo</th>\n      <th>Reporting_PHU_City</th>\n      <th>Outbreak_Related</th>\n      <th>Reporting_PHU_Latitude</th>\n      <th>Reporting_PHU_Longitude</th>\n      <th>Outcome1</th>\n    </tr>\n  </thead>\n  <tbody>\n    <tr>\n      <th>count</th>\n      <td>5830.000000</td>\n      <td>5830</td>\n      <td>5830</td>\n      <td>5830</td>\n      <td>5830</td>\n      <td>5830.000000</td>\n      <td>5830.000000</td>\n      <td>5830</td>\n    </tr>\n    <tr>\n      <th>unique</th>\n      <td>NaN</td>\n      <td>4</td>\n      <td>5</td>\n      <td>32</td>\n      <td>1</td>\n      <td>NaN</td>\n      <td>NaN</td>\n      <td>3</td>\n    </tr>\n    <tr>\n      <th>top</th>\n      <td>NaN</td>\n      <td>FEMALE</td>\n      <td>OB</td>\n      <td>Toronto</td>\n      <td>Yes</td>\n      <td>NaN</td>\n      <td>NaN</td>\n      <td>Fatal</td>\n    </tr>\n    <tr>\n      <th>freq</th>\n      <td>NaN</td>\n      <td>3322</td>\n      <td>5313</td>\n      <td>1902</td>\n      <td>5830</td>\n      <td>NaN</td>\n      <td>NaN</td>\n      <td>3747</td>\n    </tr>\n    <tr>\n      <th>mean</th>\n      <td>6.881818</td>\n      <td>NaN</td>\n      <td>NaN</td>\n      <td>NaN</td>\n      <td>NaN</td>\n      <td>43.749366</td>\n      <td>-79.564563</td>\n      <td>NaN</td>\n    </tr>\n    <tr>\n      <th>std</th>\n      <td>2.278423</td>\n      <td>NaN</td>\n      <td>NaN</td>\n      <td>NaN</td>\n      <td>NaN</td>\n      <td>0.848822</td>\n      <td>1.784394</td>\n      <td>NaN</td>\n    </tr>\n    <tr>\n      <th>min</th>\n      <td>1.000000</td>\n      <td>NaN</td>\n      <td>NaN</td>\n      <td>NaN</td>\n      <td>NaN</td>\n      <td>42.308796</td>\n      <td>-94.488254</td>\n      <td>NaN</td>\n    </tr>\n    <tr>\n      <th>25%</th>\n      <td>6.000000</td>\n      <td>NaN</td>\n      <td>NaN</td>\n      <td>NaN</td>\n      <td>NaN</td>\n      <td>43.462876</td>\n      <td>-79.744796</td>\n      <td>NaN</td>\n    </tr>\n    <tr>\n      <th>50%</th>\n      <td>8.000000</td>\n      <td>NaN</td>\n      <td>NaN</td>\n      <td>NaN</td>\n      <td>NaN</td>\n      <td>43.656591</td>\n      <td>-79.379358</td>\n      <td>NaN</td>\n    </tr>\n    <tr>\n      <th>75%</th>\n      <td>9.000000</td>\n      <td>NaN</td>\n      <td>NaN</td>\n      <td>NaN</td>\n      <td>NaN</td>\n      <td>43.898605</td>\n      <td>-79.379358</td>\n      <td>NaN</td>\n    </tr>\n    <tr>\n      <th>max</th>\n      <td>9.000000</td>\n      <td>NaN</td>\n      <td>NaN</td>\n      <td>NaN</td>\n      <td>NaN</td>\n      <td>49.769615</td>\n      <td>-74.736298</td>\n      <td>NaN</td>\n    </tr>\n  </tbody>\n</table>\n</div>"
     },
     "metadata": {},
     "execution_count": 26
    }
   ],
   "source": [
    "df.describe(include='all')"
   ]
  },
  {
   "cell_type": "code",
   "execution_count": 27,
   "metadata": {
    "tags": []
   },
   "outputs": [
    {
     "output_type": "stream",
     "name": "stdout",
     "text": [
      "5830.0\n7\n"
     ]
    }
   ],
   "source": [
    "AG = pd.unique(df.Age_Group)\n",
    "mode = np.zeros((9,1))\n",
    "for i in list(df.loc[:,\"Age_Group\"].values):\n",
    "    if str(i)!='nan':\n",
    "        i = int(i)\n",
    "        mode[i-1]+=1\n",
    "m = np.argmax(mode)\n",
    "print(np.sum(mode))\n",
    "print(m)"
   ]
  },
  {
   "cell_type": "code",
   "execution_count": 28,
   "metadata": {},
   "outputs": [],
   "source": [
    "df['Age_Group'] = df['Age_Group'].replace('<20',1).replace('20s',2).replace('30s',3).replace('40s',4).replace('50s',5).replace('60s',6).replace('70s',7).replace('80s',8).replace('90s',9)\n",
    "df['Outcome1']=df['Outcome1'].replace('Resolved',1).replace('Fatal',-1).replace('Not Resolved',0)\n",
    "df['Outbreak_Related'] = df['Outbreak_Related'].replace('Yes',1).replace(np.nan,0)"
   ]
  },
  {
   "cell_type": "code",
   "execution_count": 29,
   "metadata": {},
   "outputs": [],
   "source": [
    "gender_dummy = pd.get_dummies(df.Client_Gender,prefix='Gender')\n",
    "Case_Aq_dummy = pd.get_dummies(df.Case_AcquisitionInfo,prefix='Case_Aq')\n",
    "City_dummy = pd.get_dummies(df.Reporting_PHU_City,prefix='City')\n",
    "drop_clm = ['Client_Gender','Case_AcquisitionInfo','Reporting_PHU_City','Reporting_PHU_Latitude','Reporting_PHU_Longitude']\n",
    "df = df.drop(columns=drop_clm)\n",
    "df = pd.concat([df,gender_dummy,Case_Aq_dummy],axis=1)"
   ]
  },
  {
   "cell_type": "code",
   "execution_count": 30,
   "metadata": {},
   "outputs": [],
   "source": [
    "feature_cols = list(df.columns)\n",
    "target_col = 'Outcome1'\n",
    "feature_cols.remove(target_col)\n",
    "df_feat = df[feature_cols]\n",
    "df_target = df.drop(columns = feature_cols)\n",
    "class_nms = ['Fatal','Not Resolved','Resolved']"
   ]
  },
  {
   "cell_type": "code",
   "execution_count": 31,
   "metadata": {},
   "outputs": [
    {
     "output_type": "execute_result",
     "data": {
      "text/plain": [
       "                             Age_Group  Outbreak_Related  Outcome1  \\\n",
       "Age_Group                     1.000000               NaN -0.655950   \n",
       "Outbreak_Related                   NaN               NaN       NaN   \n",
       "Outcome1                     -0.655950               NaN  1.000000   \n",
       "Gender_FEMALE                 0.084641               NaN  0.027408   \n",
       "Gender_GENDER DIVERSE        -0.022317               NaN  0.007937   \n",
       "Gender_MALE                  -0.082781               NaN -0.029204   \n",
       "Gender_UNSPECIFIED           -0.007891               NaN  0.007927   \n",
       "Case_Aq_CC                   -0.308217               NaN  0.239574   \n",
       "Case_Aq_MISSING INFORMATION   0.009443               NaN  0.002013   \n",
       "Case_Aq_NO KNOWN EPI LINK    -0.071128               NaN  0.083140   \n",
       "Case_Aq_OB                    0.249985               NaN -0.210110   \n",
       "Case_Aq_TRAVEL               -0.028702               NaN  0.033319   \n",
       "\n",
       "                             Gender_FEMALE  Gender_GENDER DIVERSE  \\\n",
       "Age_Group                         0.084641              -0.022317   \n",
       "Outbreak_Related                       NaN                    NaN   \n",
       "Outcome1                          0.027408               0.007937   \n",
       "Gender_FEMALE                     1.000000              -0.015074   \n",
       "Gender_GENDER DIVERSE            -0.015074               1.000000   \n",
       "Gender_MALE                      -0.981578              -0.011171   \n",
       "Gender_UNSPECIFIED               -0.109181              -0.001243   \n",
       "Case_Aq_CC                       -0.018382              -0.002920   \n",
       "Case_Aq_MISSING INFORMATION       0.026436              -0.002384   \n",
       "Case_Aq_NO KNOWN EPI LINK         0.007216              -0.001230   \n",
       "Case_Aq_OB                       -0.002934               0.004086   \n",
       "Case_Aq_TRAVEL                   -0.026114              -0.000297   \n",
       "\n",
       "                             Gender_MALE  Gender_UNSPECIFIED  Case_Aq_CC  \\\n",
       "Age_Group                      -0.082781           -0.007891   -0.308217   \n",
       "Outbreak_Related                     NaN                 NaN         NaN   \n",
       "Outcome1                       -0.029204            0.007927    0.239574   \n",
       "Gender_FEMALE                  -0.981578           -0.109181   -0.018382   \n",
       "Gender_GENDER DIVERSE          -0.011171           -0.001243   -0.002920   \n",
       "Gender_MALE                     1.000000           -0.080910    0.017630   \n",
       "Gender_UNSPECIFIED             -0.080910            1.000000    0.004624   \n",
       "Case_Aq_CC                      0.017630            0.004624    1.000000   \n",
       "Case_Aq_MISSING INFORMATION    -0.023158           -0.017269   -0.040580   \n",
       "Case_Aq_NO KNOWN EPI LINK      -0.009237            0.010680   -0.020942   \n",
       "Case_Aq_OB                      0.002087            0.003923   -0.714622   \n",
       "Case_Aq_TRAVEL                  0.026604           -0.002153   -0.005058   \n",
       "\n",
       "                             Case_Aq_MISSING INFORMATION  \\\n",
       "Age_Group                                       0.009443   \n",
       "Outbreak_Related                                     NaN   \n",
       "Outcome1                                        0.002013   \n",
       "Gender_FEMALE                                   0.026436   \n",
       "Gender_GENDER DIVERSE                          -0.002384   \n",
       "Gender_MALE                                    -0.023158   \n",
       "Gender_UNSPECIFIED                             -0.017269   \n",
       "Case_Aq_CC                                     -0.040580   \n",
       "Case_Aq_MISSING INFORMATION                     1.000000   \n",
       "Case_Aq_NO KNOWN EPI LINK                      -0.017101   \n",
       "Case_Aq_OB                                     -0.583567   \n",
       "Case_Aq_TRAVEL                                 -0.004131   \n",
       "\n",
       "                             Case_Aq_NO KNOWN EPI LINK  Case_Aq_OB  \\\n",
       "Age_Group                                    -0.071128    0.249985   \n",
       "Outbreak_Related                                   NaN         NaN   \n",
       "Outcome1                                      0.083140   -0.210110   \n",
       "Gender_FEMALE                                 0.007216   -0.002934   \n",
       "Gender_GENDER DIVERSE                        -0.001230    0.004086   \n",
       "Gender_MALE                                  -0.009237    0.002087   \n",
       "Gender_UNSPECIFIED                            0.010680    0.003923   \n",
       "Case_Aq_CC                                   -0.020942   -0.714622   \n",
       "Case_Aq_MISSING INFORMATION                  -0.017101   -0.583567   \n",
       "Case_Aq_NO KNOWN EPI LINK                     1.000000   -0.301150   \n",
       "Case_Aq_OB                                   -0.301150    1.000000   \n",
       "Case_Aq_TRAVEL                               -0.002132   -0.072738   \n",
       "\n",
       "                             Case_Aq_TRAVEL  \n",
       "Age_Group                         -0.028702  \n",
       "Outbreak_Related                        NaN  \n",
       "Outcome1                           0.033319  \n",
       "Gender_FEMALE                     -0.026114  \n",
       "Gender_GENDER DIVERSE             -0.000297  \n",
       "Gender_MALE                        0.026604  \n",
       "Gender_UNSPECIFIED                -0.002153  \n",
       "Case_Aq_CC                        -0.005058  \n",
       "Case_Aq_MISSING INFORMATION       -0.004131  \n",
       "Case_Aq_NO KNOWN EPI LINK         -0.002132  \n",
       "Case_Aq_OB                        -0.072738  \n",
       "Case_Aq_TRAVEL                     1.000000  "
      ],
      "text/html": "<div>\n<style scoped>\n    .dataframe tbody tr th:only-of-type {\n        vertical-align: middle;\n    }\n\n    .dataframe tbody tr th {\n        vertical-align: top;\n    }\n\n    .dataframe thead th {\n        text-align: right;\n    }\n</style>\n<table border=\"1\" class=\"dataframe\">\n  <thead>\n    <tr style=\"text-align: right;\">\n      <th></th>\n      <th>Age_Group</th>\n      <th>Outbreak_Related</th>\n      <th>Outcome1</th>\n      <th>Gender_FEMALE</th>\n      <th>Gender_GENDER DIVERSE</th>\n      <th>Gender_MALE</th>\n      <th>Gender_UNSPECIFIED</th>\n      <th>Case_Aq_CC</th>\n      <th>Case_Aq_MISSING INFORMATION</th>\n      <th>Case_Aq_NO KNOWN EPI LINK</th>\n      <th>Case_Aq_OB</th>\n      <th>Case_Aq_TRAVEL</th>\n    </tr>\n  </thead>\n  <tbody>\n    <tr>\n      <th>Age_Group</th>\n      <td>1.000000</td>\n      <td>NaN</td>\n      <td>-0.655950</td>\n      <td>0.084641</td>\n      <td>-0.022317</td>\n      <td>-0.082781</td>\n      <td>-0.007891</td>\n      <td>-0.308217</td>\n      <td>0.009443</td>\n      <td>-0.071128</td>\n      <td>0.249985</td>\n      <td>-0.028702</td>\n    </tr>\n    <tr>\n      <th>Outbreak_Related</th>\n      <td>NaN</td>\n      <td>NaN</td>\n      <td>NaN</td>\n      <td>NaN</td>\n      <td>NaN</td>\n      <td>NaN</td>\n      <td>NaN</td>\n      <td>NaN</td>\n      <td>NaN</td>\n      <td>NaN</td>\n      <td>NaN</td>\n      <td>NaN</td>\n    </tr>\n    <tr>\n      <th>Outcome1</th>\n      <td>-0.655950</td>\n      <td>NaN</td>\n      <td>1.000000</td>\n      <td>0.027408</td>\n      <td>0.007937</td>\n      <td>-0.029204</td>\n      <td>0.007927</td>\n      <td>0.239574</td>\n      <td>0.002013</td>\n      <td>0.083140</td>\n      <td>-0.210110</td>\n      <td>0.033319</td>\n    </tr>\n    <tr>\n      <th>Gender_FEMALE</th>\n      <td>0.084641</td>\n      <td>NaN</td>\n      <td>0.027408</td>\n      <td>1.000000</td>\n      <td>-0.015074</td>\n      <td>-0.981578</td>\n      <td>-0.109181</td>\n      <td>-0.018382</td>\n      <td>0.026436</td>\n      <td>0.007216</td>\n      <td>-0.002934</td>\n      <td>-0.026114</td>\n    </tr>\n    <tr>\n      <th>Gender_GENDER DIVERSE</th>\n      <td>-0.022317</td>\n      <td>NaN</td>\n      <td>0.007937</td>\n      <td>-0.015074</td>\n      <td>1.000000</td>\n      <td>-0.011171</td>\n      <td>-0.001243</td>\n      <td>-0.002920</td>\n      <td>-0.002384</td>\n      <td>-0.001230</td>\n      <td>0.004086</td>\n      <td>-0.000297</td>\n    </tr>\n    <tr>\n      <th>Gender_MALE</th>\n      <td>-0.082781</td>\n      <td>NaN</td>\n      <td>-0.029204</td>\n      <td>-0.981578</td>\n      <td>-0.011171</td>\n      <td>1.000000</td>\n      <td>-0.080910</td>\n      <td>0.017630</td>\n      <td>-0.023158</td>\n      <td>-0.009237</td>\n      <td>0.002087</td>\n      <td>0.026604</td>\n    </tr>\n    <tr>\n      <th>Gender_UNSPECIFIED</th>\n      <td>-0.007891</td>\n      <td>NaN</td>\n      <td>0.007927</td>\n      <td>-0.109181</td>\n      <td>-0.001243</td>\n      <td>-0.080910</td>\n      <td>1.000000</td>\n      <td>0.004624</td>\n      <td>-0.017269</td>\n      <td>0.010680</td>\n      <td>0.003923</td>\n      <td>-0.002153</td>\n    </tr>\n    <tr>\n      <th>Case_Aq_CC</th>\n      <td>-0.308217</td>\n      <td>NaN</td>\n      <td>0.239574</td>\n      <td>-0.018382</td>\n      <td>-0.002920</td>\n      <td>0.017630</td>\n      <td>0.004624</td>\n      <td>1.000000</td>\n      <td>-0.040580</td>\n      <td>-0.020942</td>\n      <td>-0.714622</td>\n      <td>-0.005058</td>\n    </tr>\n    <tr>\n      <th>Case_Aq_MISSING INFORMATION</th>\n      <td>0.009443</td>\n      <td>NaN</td>\n      <td>0.002013</td>\n      <td>0.026436</td>\n      <td>-0.002384</td>\n      <td>-0.023158</td>\n      <td>-0.017269</td>\n      <td>-0.040580</td>\n      <td>1.000000</td>\n      <td>-0.017101</td>\n      <td>-0.583567</td>\n      <td>-0.004131</td>\n    </tr>\n    <tr>\n      <th>Case_Aq_NO KNOWN EPI LINK</th>\n      <td>-0.071128</td>\n      <td>NaN</td>\n      <td>0.083140</td>\n      <td>0.007216</td>\n      <td>-0.001230</td>\n      <td>-0.009237</td>\n      <td>0.010680</td>\n      <td>-0.020942</td>\n      <td>-0.017101</td>\n      <td>1.000000</td>\n      <td>-0.301150</td>\n      <td>-0.002132</td>\n    </tr>\n    <tr>\n      <th>Case_Aq_OB</th>\n      <td>0.249985</td>\n      <td>NaN</td>\n      <td>-0.210110</td>\n      <td>-0.002934</td>\n      <td>0.004086</td>\n      <td>0.002087</td>\n      <td>0.003923</td>\n      <td>-0.714622</td>\n      <td>-0.583567</td>\n      <td>-0.301150</td>\n      <td>1.000000</td>\n      <td>-0.072738</td>\n    </tr>\n    <tr>\n      <th>Case_Aq_TRAVEL</th>\n      <td>-0.028702</td>\n      <td>NaN</td>\n      <td>0.033319</td>\n      <td>-0.026114</td>\n      <td>-0.000297</td>\n      <td>0.026604</td>\n      <td>-0.002153</td>\n      <td>-0.005058</td>\n      <td>-0.004131</td>\n      <td>-0.002132</td>\n      <td>-0.072738</td>\n      <td>1.000000</td>\n    </tr>\n  </tbody>\n</table>\n</div>"
     },
     "metadata": {},
     "execution_count": 31
    }
   ],
   "source": [
    "df.corr()"
   ]
  },
  {
   "cell_type": "code",
   "execution_count": 32,
   "metadata": {},
   "outputs": [],
   "source": [
    "X_train,X_test,Y_train,Y_test = train_test_split(df_feat,df_target, test_size = 0.2, random_state= 225)"
   ]
  },
  {
   "cell_type": "code",
   "execution_count": null,
   "metadata": {},
   "outputs": [],
   "source": [
    "train_range = list(range(train_length))\n",
    "test_range = list(range(train_length, train_length+test_length))\n",
    "X_train = df_feat.iloc[train_range,:]\n",
    "Y_train = df_target.iloc[train_range,:]\n",
    "X_test = df_feat.iloc[test_range,:]\n",
    "Y_test = df_target.iloc[test_range,:]"
   ]
  },
  {
   "cell_type": "code",
   "execution_count": 34,
   "metadata": {
    "tags": []
   },
   "outputs": [
    {
     "output_type": "execute_result",
     "data": {
      "text/plain": [
       "Text(0, 0.5, 'Accuracy')"
      ]
     },
     "metadata": {},
     "execution_count": 34
    },
    {
     "output_type": "display_data",
     "data": {
      "text/plain": "<Figure size 432x288 with 1 Axes>",
      "image/svg+xml": "<?xml version=\"1.0\" encoding=\"utf-8\" standalone=\"no\"?>\r\n<!DOCTYPE svg PUBLIC \"-//W3C//DTD SVG 1.1//EN\"\r\n  \"http://www.w3.org/Graphics/SVG/1.1/DTD/svg11.dtd\">\r\n<!-- Created with matplotlib (https://matplotlib.org/) -->\r\n<svg height=\"281.104219pt\" version=\"1.1\" viewBox=\"0 0 401.339062 281.104219\" width=\"401.339062pt\" xmlns=\"http://www.w3.org/2000/svg\" xmlns:xlink=\"http://www.w3.org/1999/xlink\">\r\n <defs>\r\n  <style type=\"text/css\">\r\n*{stroke-linecap:butt;stroke-linejoin:round;}\r\n  </style>\r\n </defs>\r\n <g id=\"figure_1\">\r\n  <g id=\"patch_1\">\r\n   <path d=\"M 0 281.104219 \r\nL 401.339062 281.104219 \r\nL 401.339062 0 \r\nL 0 0 \r\nz\r\n\" style=\"fill:#ffffff;\"/>\r\n  </g>\r\n  <g id=\"axes_1\">\r\n   <g id=\"patch_2\">\r\n    <path d=\"M 59.339063 239.229375 \r\nL 394.139063 239.229375 \r\nL 394.139063 21.789375 \r\nL 59.339063 21.789375 \r\nz\r\n\" style=\"fill:#eaeaf2;\"/>\r\n   </g>\r\n   <g id=\"matplotlib.axis_1\">\r\n    <g id=\"xtick_1\">\r\n     <g id=\"line2d_1\">\r\n      <path clip-path=\"url(#p2e7e889f8f)\" d=\"M 74.557244 239.229375 \r\nL 74.557244 21.789375 \r\n\" style=\"fill:none;stroke:#ffffff;stroke-linecap:round;\"/>\r\n     </g>\r\n     <g id=\"text_1\">\r\n      <!-- 1e-10 -->\r\n      <defs>\r\n       <path d=\"M 37.25 0 \r\nL 28.46875 0 \r\nL 28.46875 56 \r\nQ 25.296875 52.984375 20.140625 49.953125 \r\nQ 14.984375 46.921875 10.890625 45.40625 \r\nL 10.890625 53.90625 \r\nQ 18.265625 57.375 23.78125 62.296875 \r\nQ 29.296875 67.234375 31.59375 71.875 \r\nL 37.25 71.875 \r\nz\r\n\" id=\"ArialMT-49\"/>\r\n       <path d=\"M 42.09375 16.703125 \r\nL 51.171875 15.578125 \r\nQ 49.03125 7.625 43.21875 3.21875 \r\nQ 37.40625 -1.171875 28.375 -1.171875 \r\nQ 17 -1.171875 10.328125 5.828125 \r\nQ 3.65625 12.84375 3.65625 25.484375 \r\nQ 3.65625 38.578125 10.390625 45.796875 \r\nQ 17.140625 53.03125 27.875 53.03125 \r\nQ 38.28125 53.03125 44.875 45.953125 \r\nQ 51.46875 38.875 51.46875 26.03125 \r\nQ 51.46875 25.25 51.421875 23.6875 \r\nL 12.75 23.6875 \r\nQ 13.234375 15.140625 17.578125 10.59375 \r\nQ 21.921875 6.0625 28.421875 6.0625 \r\nQ 33.25 6.0625 36.671875 8.59375 \r\nQ 40.09375 11.140625 42.09375 16.703125 \r\nz\r\nM 13.234375 30.90625 \r\nL 42.1875 30.90625 \r\nQ 41.609375 37.453125 38.875 40.71875 \r\nQ 34.671875 45.796875 27.984375 45.796875 \r\nQ 21.921875 45.796875 17.796875 41.75 \r\nQ 13.671875 37.703125 13.234375 30.90625 \r\nz\r\n\" id=\"ArialMT-101\"/>\r\n       <path d=\"M 3.171875 21.484375 \r\nL 3.171875 30.328125 \r\nL 30.171875 30.328125 \r\nL 30.171875 21.484375 \r\nz\r\n\" id=\"ArialMT-45\"/>\r\n       <path d=\"M 4.15625 35.296875 \r\nQ 4.15625 48 6.765625 55.734375 \r\nQ 9.375 63.484375 14.515625 67.671875 \r\nQ 19.671875 71.875 27.484375 71.875 \r\nQ 33.25 71.875 37.59375 69.546875 \r\nQ 41.9375 67.234375 44.765625 62.859375 \r\nQ 47.609375 58.5 49.21875 52.21875 \r\nQ 50.828125 45.953125 50.828125 35.296875 \r\nQ 50.828125 22.703125 48.234375 14.96875 \r\nQ 45.65625 7.234375 40.5 3 \r\nQ 35.359375 -1.21875 27.484375 -1.21875 \r\nQ 17.140625 -1.21875 11.234375 6.203125 \r\nQ 4.15625 15.140625 4.15625 35.296875 \r\nz\r\nM 13.1875 35.296875 \r\nQ 13.1875 17.671875 17.3125 11.828125 \r\nQ 21.4375 6 27.484375 6 \r\nQ 33.546875 6 37.671875 11.859375 \r\nQ 41.796875 17.71875 41.796875 35.296875 \r\nQ 41.796875 52.984375 37.671875 58.78125 \r\nQ 33.546875 64.59375 27.390625 64.59375 \r\nQ 21.34375 64.59375 17.71875 59.46875 \r\nQ 13.1875 52.9375 13.1875 35.296875 \r\nz\r\n\" id=\"ArialMT-48\"/>\r\n      </defs>\r\n      <g style=\"fill:#262626;\" transform=\"translate(60.491854 256.602969)scale(0.11 -0.11)\">\r\n       <use xlink:href=\"#ArialMT-49\"/>\r\n       <use x=\"55.615234\" xlink:href=\"#ArialMT-101\"/>\r\n       <use x=\"111.230469\" xlink:href=\"#ArialMT-45\"/>\r\n       <use x=\"144.53125\" xlink:href=\"#ArialMT-49\"/>\r\n       <use x=\"200.146484\" xlink:href=\"#ArialMT-48\"/>\r\n      </g>\r\n     </g>\r\n    </g>\r\n    <g id=\"xtick_2\">\r\n     <g id=\"line2d_2\">\r\n      <path clip-path=\"url(#p2e7e889f8f)\" d=\"M 150.648153 239.229375 \r\nL 150.648153 21.789375 \r\n\" style=\"fill:none;stroke:#ffffff;stroke-linecap:round;\"/>\r\n     </g>\r\n     <g id=\"text_2\">\r\n      <!-- 1e-9 -->\r\n      <defs>\r\n       <path d=\"M 5.46875 16.546875 \r\nL 13.921875 17.328125 \r\nQ 14.984375 11.375 18.015625 8.6875 \r\nQ 21.046875 6 25.78125 6 \r\nQ 29.828125 6 32.875 7.859375 \r\nQ 35.9375 9.71875 37.890625 12.8125 \r\nQ 39.84375 15.921875 41.15625 21.1875 \r\nQ 42.484375 26.46875 42.484375 31.9375 \r\nQ 42.484375 32.515625 42.4375 33.6875 \r\nQ 39.796875 29.5 35.234375 26.875 \r\nQ 30.671875 24.265625 25.34375 24.265625 \r\nQ 16.453125 24.265625 10.296875 30.703125 \r\nQ 4.15625 37.15625 4.15625 47.703125 \r\nQ 4.15625 58.59375 10.578125 65.234375 \r\nQ 17 71.875 26.65625 71.875 \r\nQ 33.640625 71.875 39.421875 68.109375 \r\nQ 45.21875 64.359375 48.21875 57.390625 \r\nQ 51.21875 50.4375 51.21875 37.25 \r\nQ 51.21875 23.53125 48.234375 15.40625 \r\nQ 45.265625 7.28125 39.375 3.03125 \r\nQ 33.5 -1.21875 25.59375 -1.21875 \r\nQ 17.1875 -1.21875 11.859375 3.4375 \r\nQ 6.546875 8.109375 5.46875 16.546875 \r\nz\r\nM 41.453125 48.140625 \r\nQ 41.453125 55.71875 37.421875 60.15625 \r\nQ 33.40625 64.59375 27.734375 64.59375 \r\nQ 21.875 64.59375 17.53125 59.8125 \r\nQ 13.1875 55.03125 13.1875 47.40625 \r\nQ 13.1875 40.578125 17.3125 36.296875 \r\nQ 21.4375 32.03125 27.484375 32.03125 \r\nQ 33.59375 32.03125 37.515625 36.296875 \r\nQ 41.453125 40.578125 41.453125 48.140625 \r\nz\r\n\" id=\"ArialMT-57\"/>\r\n      </defs>\r\n      <g style=\"fill:#262626;\" transform=\"translate(139.641278 256.602969)scale(0.11 -0.11)\">\r\n       <use xlink:href=\"#ArialMT-49\"/>\r\n       <use x=\"55.615234\" xlink:href=\"#ArialMT-101\"/>\r\n       <use x=\"111.230469\" xlink:href=\"#ArialMT-45\"/>\r\n       <use x=\"144.53125\" xlink:href=\"#ArialMT-57\"/>\r\n      </g>\r\n     </g>\r\n    </g>\r\n    <g id=\"xtick_3\">\r\n     <g id=\"line2d_3\">\r\n      <path clip-path=\"url(#p2e7e889f8f)\" d=\"M 226.739063 239.229375 \r\nL 226.739063 21.789375 \r\n\" style=\"fill:none;stroke:#ffffff;stroke-linecap:round;\"/>\r\n     </g>\r\n     <g id=\"text_3\">\r\n      <!-- 1e-5 -->\r\n      <defs>\r\n       <path d=\"M 4.15625 18.75 \r\nL 13.375 19.53125 \r\nQ 14.40625 12.796875 18.140625 9.390625 \r\nQ 21.875 6 27.15625 6 \r\nQ 33.5 6 37.890625 10.78125 \r\nQ 42.28125 15.578125 42.28125 23.484375 \r\nQ 42.28125 31 38.0625 35.34375 \r\nQ 33.84375 39.703125 27 39.703125 \r\nQ 22.75 39.703125 19.328125 37.765625 \r\nQ 15.921875 35.84375 13.96875 32.765625 \r\nL 5.71875 33.84375 \r\nL 12.640625 70.609375 \r\nL 48.25 70.609375 \r\nL 48.25 62.203125 \r\nL 19.671875 62.203125 \r\nL 15.828125 42.96875 \r\nQ 22.265625 47.46875 29.34375 47.46875 \r\nQ 38.71875 47.46875 45.15625 40.96875 \r\nQ 51.609375 34.46875 51.609375 24.265625 \r\nQ 51.609375 14.546875 45.953125 7.46875 \r\nQ 39.0625 -1.21875 27.15625 -1.21875 \r\nQ 17.390625 -1.21875 11.203125 4.25 \r\nQ 5.03125 9.71875 4.15625 18.75 \r\nz\r\n\" id=\"ArialMT-53\"/>\r\n      </defs>\r\n      <g style=\"fill:#262626;\" transform=\"translate(215.732188 256.602969)scale(0.11 -0.11)\">\r\n       <use xlink:href=\"#ArialMT-49\"/>\r\n       <use x=\"55.615234\" xlink:href=\"#ArialMT-101\"/>\r\n       <use x=\"111.230469\" xlink:href=\"#ArialMT-45\"/>\r\n       <use x=\"144.53125\" xlink:href=\"#ArialMT-53\"/>\r\n      </g>\r\n     </g>\r\n    </g>\r\n    <g id=\"xtick_4\">\r\n     <g id=\"line2d_4\">\r\n      <path clip-path=\"url(#p2e7e889f8f)\" d=\"M 302.829972 239.229375 \r\nL 302.829972 21.789375 \r\n\" style=\"fill:none;stroke:#ffffff;stroke-linecap:round;\"/>\r\n     </g>\r\n     <g id=\"text_4\">\r\n      <!-- 1e-3 -->\r\n      <defs>\r\n       <path d=\"M 4.203125 18.890625 \r\nL 12.984375 20.0625 \r\nQ 14.5 12.59375 18.140625 9.296875 \r\nQ 21.78125 6 27 6 \r\nQ 33.203125 6 37.46875 10.296875 \r\nQ 41.75 14.59375 41.75 20.953125 \r\nQ 41.75 27 37.796875 30.921875 \r\nQ 33.84375 34.859375 27.734375 34.859375 \r\nQ 25.25 34.859375 21.53125 33.890625 \r\nL 22.515625 41.609375 \r\nQ 23.390625 41.5 23.921875 41.5 \r\nQ 29.546875 41.5 34.03125 44.421875 \r\nQ 38.53125 47.359375 38.53125 53.46875 \r\nQ 38.53125 58.296875 35.25 61.46875 \r\nQ 31.984375 64.65625 26.8125 64.65625 \r\nQ 21.6875 64.65625 18.265625 61.421875 \r\nQ 14.84375 58.203125 13.875 51.765625 \r\nL 5.078125 53.328125 \r\nQ 6.6875 62.15625 12.390625 67.015625 \r\nQ 18.109375 71.875 26.609375 71.875 \r\nQ 32.46875 71.875 37.390625 69.359375 \r\nQ 42.328125 66.84375 44.9375 62.5 \r\nQ 47.5625 58.15625 47.5625 53.265625 \r\nQ 47.5625 48.640625 45.0625 44.828125 \r\nQ 42.578125 41.015625 37.703125 38.765625 \r\nQ 44.046875 37.3125 47.5625 32.6875 \r\nQ 51.078125 28.078125 51.078125 21.140625 \r\nQ 51.078125 11.765625 44.234375 5.25 \r\nQ 37.40625 -1.265625 26.953125 -1.265625 \r\nQ 17.53125 -1.265625 11.296875 4.34375 \r\nQ 5.078125 9.96875 4.203125 18.890625 \r\nz\r\n\" id=\"ArialMT-51\"/>\r\n      </defs>\r\n      <g style=\"fill:#262626;\" transform=\"translate(291.823097 256.602969)scale(0.11 -0.11)\">\r\n       <use xlink:href=\"#ArialMT-49\"/>\r\n       <use x=\"55.615234\" xlink:href=\"#ArialMT-101\"/>\r\n       <use x=\"111.230469\" xlink:href=\"#ArialMT-45\"/>\r\n       <use x=\"144.53125\" xlink:href=\"#ArialMT-51\"/>\r\n      </g>\r\n     </g>\r\n    </g>\r\n    <g id=\"xtick_5\">\r\n     <g id=\"line2d_5\">\r\n      <path clip-path=\"url(#p2e7e889f8f)\" d=\"M 378.920881 239.229375 \r\nL 378.920881 21.789375 \r\n\" style=\"fill:none;stroke:#ffffff;stroke-linecap:round;\"/>\r\n     </g>\r\n     <g id=\"text_5\">\r\n      <!-- 1e-1 -->\r\n      <g style=\"fill:#262626;\" transform=\"translate(367.914006 256.602969)scale(0.11 -0.11)\">\r\n       <use xlink:href=\"#ArialMT-49\"/>\r\n       <use x=\"55.615234\" xlink:href=\"#ArialMT-101\"/>\r\n       <use x=\"111.230469\" xlink:href=\"#ArialMT-45\"/>\r\n       <use x=\"144.53125\" xlink:href=\"#ArialMT-49\"/>\r\n      </g>\r\n     </g>\r\n    </g>\r\n    <g id=\"text_6\">\r\n     <!-- var_smoothing -->\r\n     <defs>\r\n      <path d=\"M 21 0 \r\nL 1.265625 51.859375 \r\nL 10.546875 51.859375 \r\nL 21.6875 20.796875 \r\nQ 23.484375 15.765625 25 10.359375 \r\nQ 26.171875 14.453125 28.265625 20.21875 \r\nL 39.796875 51.859375 \r\nL 48.828125 51.859375 \r\nL 29.203125 0 \r\nz\r\n\" id=\"ArialMT-118\"/>\r\n      <path d=\"M 40.4375 6.390625 \r\nQ 35.546875 2.25 31.03125 0.53125 \r\nQ 26.515625 -1.171875 21.34375 -1.171875 \r\nQ 12.796875 -1.171875 8.203125 3 \r\nQ 3.609375 7.171875 3.609375 13.671875 \r\nQ 3.609375 17.484375 5.34375 20.625 \r\nQ 7.078125 23.78125 9.890625 25.6875 \r\nQ 12.703125 27.59375 16.21875 28.5625 \r\nQ 18.796875 29.25 24.03125 29.890625 \r\nQ 34.671875 31.15625 39.703125 32.90625 \r\nQ 39.75 34.71875 39.75 35.203125 \r\nQ 39.75 40.578125 37.25 42.78125 \r\nQ 33.890625 45.75 27.25 45.75 \r\nQ 21.046875 45.75 18.09375 43.578125 \r\nQ 15.140625 41.40625 13.71875 35.890625 \r\nL 5.125 37.0625 \r\nQ 6.296875 42.578125 8.984375 45.96875 \r\nQ 11.671875 49.359375 16.75 51.1875 \r\nQ 21.828125 53.03125 28.515625 53.03125 \r\nQ 35.15625 53.03125 39.296875 51.46875 \r\nQ 43.453125 49.90625 45.40625 47.53125 \r\nQ 47.359375 45.171875 48.140625 41.546875 \r\nQ 48.578125 39.3125 48.578125 33.453125 \r\nL 48.578125 21.734375 \r\nQ 48.578125 9.46875 49.140625 6.21875 \r\nQ 49.703125 2.984375 51.375 0 \r\nL 42.1875 0 \r\nQ 40.828125 2.734375 40.4375 6.390625 \r\nz\r\nM 39.703125 26.03125 \r\nQ 34.90625 24.078125 25.34375 22.703125 \r\nQ 19.921875 21.921875 17.671875 20.9375 \r\nQ 15.4375 19.96875 14.203125 18.09375 \r\nQ 12.984375 16.21875 12.984375 13.921875 \r\nQ 12.984375 10.40625 15.640625 8.0625 \r\nQ 18.3125 5.71875 23.4375 5.71875 \r\nQ 28.515625 5.71875 32.46875 7.9375 \r\nQ 36.421875 10.15625 38.28125 14.015625 \r\nQ 39.703125 17 39.703125 22.796875 \r\nz\r\n\" id=\"ArialMT-97\"/>\r\n      <path d=\"M 6.5 0 \r\nL 6.5 51.859375 \r\nL 14.40625 51.859375 \r\nL 14.40625 44 \r\nQ 17.4375 49.515625 20 51.265625 \r\nQ 22.5625 53.03125 25.640625 53.03125 \r\nQ 30.078125 53.03125 34.671875 50.203125 \r\nL 31.640625 42.046875 \r\nQ 28.421875 43.953125 25.203125 43.953125 \r\nQ 22.3125 43.953125 20.015625 42.21875 \r\nQ 17.71875 40.484375 16.75 37.40625 \r\nQ 15.28125 32.71875 15.28125 27.15625 \r\nL 15.28125 0 \r\nz\r\n\" id=\"ArialMT-114\"/>\r\n      <path d=\"M -1.515625 -19.875 \r\nL -1.515625 -13.53125 \r\nL 56.734375 -13.53125 \r\nL 56.734375 -19.875 \r\nz\r\n\" id=\"ArialMT-95\"/>\r\n      <path d=\"M 3.078125 15.484375 \r\nL 11.765625 16.84375 \r\nQ 12.5 11.625 15.84375 8.84375 \r\nQ 19.1875 6.0625 25.203125 6.0625 \r\nQ 31.25 6.0625 34.171875 8.515625 \r\nQ 37.109375 10.984375 37.109375 14.3125 \r\nQ 37.109375 17.28125 34.515625 19 \r\nQ 32.71875 20.171875 25.53125 21.96875 \r\nQ 15.875 24.421875 12.140625 26.203125 \r\nQ 8.40625 27.984375 6.46875 31.125 \r\nQ 4.546875 34.28125 4.546875 38.09375 \r\nQ 4.546875 41.546875 6.125 44.5 \r\nQ 7.71875 47.46875 10.453125 49.421875 \r\nQ 12.5 50.921875 16.03125 51.96875 \r\nQ 19.578125 53.03125 23.640625 53.03125 \r\nQ 29.734375 53.03125 34.34375 51.265625 \r\nQ 38.96875 49.515625 41.15625 46.5 \r\nQ 43.359375 43.5 44.1875 38.484375 \r\nL 35.59375 37.3125 \r\nQ 35.015625 41.3125 32.203125 43.546875 \r\nQ 29.390625 45.796875 24.265625 45.796875 \r\nQ 18.21875 45.796875 15.625 43.796875 \r\nQ 13.03125 41.796875 13.03125 39.109375 \r\nQ 13.03125 37.40625 14.109375 36.03125 \r\nQ 15.1875 34.625 17.484375 33.6875 \r\nQ 18.796875 33.203125 25.25 31.453125 \r\nQ 34.578125 28.953125 38.25 27.359375 \r\nQ 41.9375 25.78125 44.03125 22.75 \r\nQ 46.140625 19.734375 46.140625 15.234375 \r\nQ 46.140625 10.84375 43.578125 6.953125 \r\nQ 41.015625 3.078125 36.171875 0.953125 \r\nQ 31.34375 -1.171875 25.25 -1.171875 \r\nQ 15.140625 -1.171875 9.84375 3.03125 \r\nQ 4.546875 7.234375 3.078125 15.484375 \r\nz\r\n\" id=\"ArialMT-115\"/>\r\n      <path d=\"M 6.59375 0 \r\nL 6.59375 51.859375 \r\nL 14.453125 51.859375 \r\nL 14.453125 44.578125 \r\nQ 16.890625 48.390625 20.9375 50.703125 \r\nQ 25 53.03125 30.171875 53.03125 \r\nQ 35.9375 53.03125 39.625 50.640625 \r\nQ 43.3125 48.25 44.828125 43.953125 \r\nQ 50.984375 53.03125 60.84375 53.03125 \r\nQ 68.5625 53.03125 72.703125 48.75 \r\nQ 76.859375 44.484375 76.859375 35.59375 \r\nL 76.859375 0 \r\nL 68.109375 0 \r\nL 68.109375 32.671875 \r\nQ 68.109375 37.9375 67.25 40.25 \r\nQ 66.40625 42.578125 64.15625 43.984375 \r\nQ 61.921875 45.40625 58.890625 45.40625 \r\nQ 53.421875 45.40625 49.796875 41.765625 \r\nQ 46.1875 38.140625 46.1875 30.125 \r\nL 46.1875 0 \r\nL 37.40625 0 \r\nL 37.40625 33.6875 \r\nQ 37.40625 39.546875 35.25 42.46875 \r\nQ 33.109375 45.40625 28.21875 45.40625 \r\nQ 24.515625 45.40625 21.359375 43.453125 \r\nQ 18.21875 41.5 16.796875 37.734375 \r\nQ 15.375 33.984375 15.375 26.90625 \r\nL 15.375 0 \r\nz\r\n\" id=\"ArialMT-109\"/>\r\n      <path d=\"M 3.328125 25.921875 \r\nQ 3.328125 40.328125 11.328125 47.265625 \r\nQ 18.015625 53.03125 27.640625 53.03125 \r\nQ 38.328125 53.03125 45.109375 46.015625 \r\nQ 51.90625 39.015625 51.90625 26.65625 \r\nQ 51.90625 16.65625 48.90625 10.90625 \r\nQ 45.90625 5.171875 40.15625 2 \r\nQ 34.421875 -1.171875 27.640625 -1.171875 \r\nQ 16.75 -1.171875 10.03125 5.8125 \r\nQ 3.328125 12.796875 3.328125 25.921875 \r\nz\r\nM 12.359375 25.921875 \r\nQ 12.359375 15.96875 16.703125 11.015625 \r\nQ 21.046875 6.0625 27.640625 6.0625 \r\nQ 34.1875 6.0625 38.53125 11.03125 \r\nQ 42.875 16.015625 42.875 26.21875 \r\nQ 42.875 35.84375 38.5 40.796875 \r\nQ 34.125 45.75 27.640625 45.75 \r\nQ 21.046875 45.75 16.703125 40.8125 \r\nQ 12.359375 35.890625 12.359375 25.921875 \r\nz\r\n\" id=\"ArialMT-111\"/>\r\n      <path d=\"M 25.78125 7.859375 \r\nL 27.046875 0.09375 \r\nQ 23.34375 -0.6875 20.40625 -0.6875 \r\nQ 15.625 -0.6875 12.984375 0.828125 \r\nQ 10.359375 2.34375 9.28125 4.8125 \r\nQ 8.203125 7.28125 8.203125 15.1875 \r\nL 8.203125 45.015625 \r\nL 1.765625 45.015625 \r\nL 1.765625 51.859375 \r\nL 8.203125 51.859375 \r\nL 8.203125 64.703125 \r\nL 16.9375 69.96875 \r\nL 16.9375 51.859375 \r\nL 25.78125 51.859375 \r\nL 25.78125 45.015625 \r\nL 16.9375 45.015625 \r\nL 16.9375 14.703125 \r\nQ 16.9375 10.9375 17.40625 9.859375 \r\nQ 17.875 8.796875 18.921875 8.15625 \r\nQ 19.96875 7.515625 21.921875 7.515625 \r\nQ 23.390625 7.515625 25.78125 7.859375 \r\nz\r\n\" id=\"ArialMT-116\"/>\r\n      <path d=\"M 6.59375 0 \r\nL 6.59375 71.578125 \r\nL 15.375 71.578125 \r\nL 15.375 45.90625 \r\nQ 21.53125 53.03125 30.90625 53.03125 \r\nQ 36.671875 53.03125 40.921875 50.75 \r\nQ 45.171875 48.484375 47 44.484375 \r\nQ 48.828125 40.484375 48.828125 32.859375 \r\nL 48.828125 0 \r\nL 40.046875 0 \r\nL 40.046875 32.859375 \r\nQ 40.046875 39.453125 37.1875 42.453125 \r\nQ 34.328125 45.453125 29.109375 45.453125 \r\nQ 25.203125 45.453125 21.75 43.421875 \r\nQ 18.3125 41.40625 16.84375 37.9375 \r\nQ 15.375 34.46875 15.375 28.375 \r\nL 15.375 0 \r\nz\r\n\" id=\"ArialMT-104\"/>\r\n      <path d=\"M 6.640625 61.46875 \r\nL 6.640625 71.578125 \r\nL 15.4375 71.578125 \r\nL 15.4375 61.46875 \r\nz\r\nM 6.640625 0 \r\nL 6.640625 51.859375 \r\nL 15.4375 51.859375 \r\nL 15.4375 0 \r\nz\r\n\" id=\"ArialMT-105\"/>\r\n      <path d=\"M 6.59375 0 \r\nL 6.59375 51.859375 \r\nL 14.5 51.859375 \r\nL 14.5 44.484375 \r\nQ 20.21875 53.03125 31 53.03125 \r\nQ 35.6875 53.03125 39.625 51.34375 \r\nQ 43.5625 49.65625 45.515625 46.921875 \r\nQ 47.46875 44.1875 48.25 40.4375 \r\nQ 48.734375 37.984375 48.734375 31.890625 \r\nL 48.734375 0 \r\nL 39.9375 0 \r\nL 39.9375 31.546875 \r\nQ 39.9375 36.921875 38.90625 39.578125 \r\nQ 37.890625 42.234375 35.28125 43.8125 \r\nQ 32.671875 45.40625 29.15625 45.40625 \r\nQ 23.53125 45.40625 19.453125 41.84375 \r\nQ 15.375 38.28125 15.375 28.328125 \r\nL 15.375 0 \r\nz\r\n\" id=\"ArialMT-110\"/>\r\n      <path d=\"M 4.984375 -4.296875 \r\nL 13.53125 -5.5625 \r\nQ 14.0625 -9.515625 16.5 -11.328125 \r\nQ 19.78125 -13.765625 25.4375 -13.765625 \r\nQ 31.546875 -13.765625 34.859375 -11.328125 \r\nQ 38.1875 -8.890625 39.359375 -4.5 \r\nQ 40.046875 -1.8125 39.984375 6.78125 \r\nQ 34.234375 0 25.640625 0 \r\nQ 14.9375 0 9.078125 7.71875 \r\nQ 3.21875 15.4375 3.21875 26.21875 \r\nQ 3.21875 33.640625 5.90625 39.90625 \r\nQ 8.59375 46.1875 13.6875 49.609375 \r\nQ 18.796875 53.03125 25.6875 53.03125 \r\nQ 34.859375 53.03125 40.828125 45.609375 \r\nL 40.828125 51.859375 \r\nL 48.921875 51.859375 \r\nL 48.921875 7.03125 \r\nQ 48.921875 -5.078125 46.453125 -10.125 \r\nQ 44 -15.1875 38.640625 -18.109375 \r\nQ 33.296875 -21.046875 25.484375 -21.046875 \r\nQ 16.21875 -21.046875 10.5 -16.875 \r\nQ 4.78125 -12.703125 4.984375 -4.296875 \r\nz\r\nM 12.25 26.859375 \r\nQ 12.25 16.65625 16.296875 11.96875 \r\nQ 20.359375 7.28125 26.46875 7.28125 \r\nQ 32.515625 7.28125 36.609375 11.9375 \r\nQ 40.71875 16.609375 40.71875 26.5625 \r\nQ 40.71875 36.078125 36.5 40.90625 \r\nQ 32.28125 45.75 26.3125 45.75 \r\nQ 20.453125 45.75 16.34375 40.984375 \r\nQ 12.25 36.234375 12.25 26.859375 \r\nz\r\n\" id=\"ArialMT-103\"/>\r\n     </defs>\r\n     <g style=\"fill:#262626;\" transform=\"translate(187.3875 271.378594)scale(0.12 -0.12)\">\r\n      <use xlink:href=\"#ArialMT-118\"/>\r\n      <use x=\"50\" xlink:href=\"#ArialMT-97\"/>\r\n      <use x=\"105.615234\" xlink:href=\"#ArialMT-114\"/>\r\n      <use x=\"138.916016\" xlink:href=\"#ArialMT-95\"/>\r\n      <use x=\"194.53125\" xlink:href=\"#ArialMT-115\"/>\r\n      <use x=\"244.53125\" xlink:href=\"#ArialMT-109\"/>\r\n      <use x=\"327.832031\" xlink:href=\"#ArialMT-111\"/>\r\n      <use x=\"383.447266\" xlink:href=\"#ArialMT-111\"/>\r\n      <use x=\"439.0625\" xlink:href=\"#ArialMT-116\"/>\r\n      <use x=\"466.845703\" xlink:href=\"#ArialMT-104\"/>\r\n      <use x=\"522.460938\" xlink:href=\"#ArialMT-105\"/>\r\n      <use x=\"544.677734\" xlink:href=\"#ArialMT-110\"/>\r\n      <use x=\"600.292969\" xlink:href=\"#ArialMT-103\"/>\r\n     </g>\r\n    </g>\r\n   </g>\r\n   <g id=\"matplotlib.axis_2\">\r\n    <g id=\"ytick_1\">\r\n     <g id=\"line2d_6\">\r\n      <path clip-path=\"url(#p2e7e889f8f)\" d=\"M 59.339063 216.274318 \r\nL 394.139063 216.274318 \r\n\" style=\"fill:none;stroke:#ffffff;stroke-linecap:round;\"/>\r\n     </g>\r\n     <g id=\"text_7\">\r\n      <!-- 0.710 -->\r\n      <defs>\r\n       <path d=\"M 9.078125 0 \r\nL 9.078125 10.015625 \r\nL 19.09375 10.015625 \r\nL 19.09375 0 \r\nz\r\n\" id=\"ArialMT-46\"/>\r\n       <path d=\"M 4.734375 62.203125 \r\nL 4.734375 70.65625 \r\nL 51.078125 70.65625 \r\nL 51.078125 63.8125 \r\nQ 44.234375 56.546875 37.515625 44.484375 \r\nQ 30.8125 32.421875 27.15625 19.671875 \r\nQ 24.515625 10.6875 23.78125 0 \r\nL 14.75 0 \r\nQ 14.890625 8.453125 18.0625 20.40625 \r\nQ 21.234375 32.375 27.171875 43.484375 \r\nQ 33.109375 54.59375 39.796875 62.203125 \r\nz\r\n\" id=\"ArialMT-55\"/>\r\n      </defs>\r\n      <g style=\"fill:#262626;\" transform=\"translate(22.315 220.211115)scale(0.11 -0.11)\">\r\n       <use xlink:href=\"#ArialMT-48\"/>\r\n       <use x=\"55.615234\" xlink:href=\"#ArialMT-46\"/>\r\n       <use x=\"83.398438\" xlink:href=\"#ArialMT-55\"/>\r\n       <use x=\"139.013672\" xlink:href=\"#ArialMT-49\"/>\r\n       <use x=\"194.628906\" xlink:href=\"#ArialMT-48\"/>\r\n      </g>\r\n     </g>\r\n    </g>\r\n    <g id=\"ytick_2\">\r\n     <g id=\"line2d_7\">\r\n      <path clip-path=\"url(#p2e7e889f8f)\" d=\"M 59.339063 189.630237 \r\nL 394.139063 189.630237 \r\n\" style=\"fill:none;stroke:#ffffff;stroke-linecap:round;\"/>\r\n     </g>\r\n     <g id=\"text_8\">\r\n      <!-- 0.715 -->\r\n      <g style=\"fill:#262626;\" transform=\"translate(22.315 193.567034)scale(0.11 -0.11)\">\r\n       <use xlink:href=\"#ArialMT-48\"/>\r\n       <use x=\"55.615234\" xlink:href=\"#ArialMT-46\"/>\r\n       <use x=\"83.398438\" xlink:href=\"#ArialMT-55\"/>\r\n       <use x=\"139.013672\" xlink:href=\"#ArialMT-49\"/>\r\n       <use x=\"194.628906\" xlink:href=\"#ArialMT-53\"/>\r\n      </g>\r\n     </g>\r\n    </g>\r\n    <g id=\"ytick_3\">\r\n     <g id=\"line2d_8\">\r\n      <path clip-path=\"url(#p2e7e889f8f)\" d=\"M 59.339063 162.986157 \r\nL 394.139063 162.986157 \r\n\" style=\"fill:none;stroke:#ffffff;stroke-linecap:round;\"/>\r\n     </g>\r\n     <g id=\"text_9\">\r\n      <!-- 0.720 -->\r\n      <defs>\r\n       <path d=\"M 50.34375 8.453125 \r\nL 50.34375 0 \r\nL 3.03125 0 \r\nQ 2.9375 3.171875 4.046875 6.109375 \r\nQ 5.859375 10.9375 9.828125 15.625 \r\nQ 13.8125 20.3125 21.34375 26.46875 \r\nQ 33.015625 36.03125 37.109375 41.625 \r\nQ 41.21875 47.21875 41.21875 52.203125 \r\nQ 41.21875 57.421875 37.46875 61 \r\nQ 33.734375 64.59375 27.734375 64.59375 \r\nQ 21.390625 64.59375 17.578125 60.78125 \r\nQ 13.765625 56.984375 13.71875 50.25 \r\nL 4.6875 51.171875 \r\nQ 5.609375 61.28125 11.65625 66.578125 \r\nQ 17.71875 71.875 27.9375 71.875 \r\nQ 38.234375 71.875 44.234375 66.15625 \r\nQ 50.25 60.453125 50.25 52 \r\nQ 50.25 47.703125 48.484375 43.546875 \r\nQ 46.734375 39.40625 42.65625 34.8125 \r\nQ 38.578125 30.21875 29.109375 22.21875 \r\nQ 21.1875 15.578125 18.9375 13.203125 \r\nQ 16.703125 10.84375 15.234375 8.453125 \r\nz\r\n\" id=\"ArialMT-50\"/>\r\n      </defs>\r\n      <g style=\"fill:#262626;\" transform=\"translate(22.315 166.922953)scale(0.11 -0.11)\">\r\n       <use xlink:href=\"#ArialMT-48\"/>\r\n       <use x=\"55.615234\" xlink:href=\"#ArialMT-46\"/>\r\n       <use x=\"83.398438\" xlink:href=\"#ArialMT-55\"/>\r\n       <use x=\"139.013672\" xlink:href=\"#ArialMT-50\"/>\r\n       <use x=\"194.628906\" xlink:href=\"#ArialMT-48\"/>\r\n      </g>\r\n     </g>\r\n    </g>\r\n    <g id=\"ytick_4\">\r\n     <g id=\"line2d_9\">\r\n      <path clip-path=\"url(#p2e7e889f8f)\" d=\"M 59.339063 136.342076 \r\nL 394.139063 136.342076 \r\n\" style=\"fill:none;stroke:#ffffff;stroke-linecap:round;\"/>\r\n     </g>\r\n     <g id=\"text_10\">\r\n      <!-- 0.725 -->\r\n      <g style=\"fill:#262626;\" transform=\"translate(22.315 140.278873)scale(0.11 -0.11)\">\r\n       <use xlink:href=\"#ArialMT-48\"/>\r\n       <use x=\"55.615234\" xlink:href=\"#ArialMT-46\"/>\r\n       <use x=\"83.398438\" xlink:href=\"#ArialMT-55\"/>\r\n       <use x=\"139.013672\" xlink:href=\"#ArialMT-50\"/>\r\n       <use x=\"194.628906\" xlink:href=\"#ArialMT-53\"/>\r\n      </g>\r\n     </g>\r\n    </g>\r\n    <g id=\"ytick_5\">\r\n     <g id=\"line2d_10\">\r\n      <path clip-path=\"url(#p2e7e889f8f)\" d=\"M 59.339063 109.697995 \r\nL 394.139063 109.697995 \r\n\" style=\"fill:none;stroke:#ffffff;stroke-linecap:round;\"/>\r\n     </g>\r\n     <g id=\"text_11\">\r\n      <!-- 0.730 -->\r\n      <g style=\"fill:#262626;\" transform=\"translate(22.315 113.634792)scale(0.11 -0.11)\">\r\n       <use xlink:href=\"#ArialMT-48\"/>\r\n       <use x=\"55.615234\" xlink:href=\"#ArialMT-46\"/>\r\n       <use x=\"83.398438\" xlink:href=\"#ArialMT-55\"/>\r\n       <use x=\"139.013672\" xlink:href=\"#ArialMT-51\"/>\r\n       <use x=\"194.628906\" xlink:href=\"#ArialMT-48\"/>\r\n      </g>\r\n     </g>\r\n    </g>\r\n    <g id=\"ytick_6\">\r\n     <g id=\"line2d_11\">\r\n      <path clip-path=\"url(#p2e7e889f8f)\" d=\"M 59.339063 83.053914 \r\nL 394.139063 83.053914 \r\n\" style=\"fill:none;stroke:#ffffff;stroke-linecap:round;\"/>\r\n     </g>\r\n     <g id=\"text_12\">\r\n      <!-- 0.735 -->\r\n      <g style=\"fill:#262626;\" transform=\"translate(22.315 86.990711)scale(0.11 -0.11)\">\r\n       <use xlink:href=\"#ArialMT-48\"/>\r\n       <use x=\"55.615234\" xlink:href=\"#ArialMT-46\"/>\r\n       <use x=\"83.398438\" xlink:href=\"#ArialMT-55\"/>\r\n       <use x=\"139.013672\" xlink:href=\"#ArialMT-51\"/>\r\n       <use x=\"194.628906\" xlink:href=\"#ArialMT-53\"/>\r\n      </g>\r\n     </g>\r\n    </g>\r\n    <g id=\"ytick_7\">\r\n     <g id=\"line2d_12\">\r\n      <path clip-path=\"url(#p2e7e889f8f)\" d=\"M 59.339063 56.409833 \r\nL 394.139063 56.409833 \r\n\" style=\"fill:none;stroke:#ffffff;stroke-linecap:round;\"/>\r\n     </g>\r\n     <g id=\"text_13\">\r\n      <!-- 0.740 -->\r\n      <defs>\r\n       <path d=\"M 32.328125 0 \r\nL 32.328125 17.140625 \r\nL 1.265625 17.140625 \r\nL 1.265625 25.203125 \r\nL 33.9375 71.578125 \r\nL 41.109375 71.578125 \r\nL 41.109375 25.203125 \r\nL 50.78125 25.203125 \r\nL 50.78125 17.140625 \r\nL 41.109375 17.140625 \r\nL 41.109375 0 \r\nz\r\nM 32.328125 25.203125 \r\nL 32.328125 57.46875 \r\nL 9.90625 25.203125 \r\nz\r\n\" id=\"ArialMT-52\"/>\r\n      </defs>\r\n      <g style=\"fill:#262626;\" transform=\"translate(22.315 60.34663)scale(0.11 -0.11)\">\r\n       <use xlink:href=\"#ArialMT-48\"/>\r\n       <use x=\"55.615234\" xlink:href=\"#ArialMT-46\"/>\r\n       <use x=\"83.398438\" xlink:href=\"#ArialMT-55\"/>\r\n       <use x=\"139.013672\" xlink:href=\"#ArialMT-52\"/>\r\n       <use x=\"194.628906\" xlink:href=\"#ArialMT-48\"/>\r\n      </g>\r\n     </g>\r\n    </g>\r\n    <g id=\"ytick_8\">\r\n     <g id=\"line2d_13\">\r\n      <path clip-path=\"url(#p2e7e889f8f)\" d=\"M 59.339063 29.765752 \r\nL 394.139063 29.765752 \r\n\" style=\"fill:none;stroke:#ffffff;stroke-linecap:round;\"/>\r\n     </g>\r\n     <g id=\"text_14\">\r\n      <!-- 0.745 -->\r\n      <g style=\"fill:#262626;\" transform=\"translate(22.315 33.702549)scale(0.11 -0.11)\">\r\n       <use xlink:href=\"#ArialMT-48\"/>\r\n       <use x=\"55.615234\" xlink:href=\"#ArialMT-46\"/>\r\n       <use x=\"83.398438\" xlink:href=\"#ArialMT-55\"/>\r\n       <use x=\"139.013672\" xlink:href=\"#ArialMT-52\"/>\r\n       <use x=\"194.628906\" xlink:href=\"#ArialMT-53\"/>\r\n      </g>\r\n     </g>\r\n    </g>\r\n    <g id=\"text_15\">\r\n     <!-- Accuracy -->\r\n     <defs>\r\n      <path d=\"M -0.140625 0 \r\nL 27.34375 71.578125 \r\nL 37.546875 71.578125 \r\nL 66.84375 0 \r\nL 56.0625 0 \r\nL 47.703125 21.6875 \r\nL 17.78125 21.6875 \r\nL 9.90625 0 \r\nz\r\nM 20.515625 29.390625 \r\nL 44.78125 29.390625 \r\nL 37.3125 49.21875 \r\nQ 33.890625 58.25 32.234375 64.0625 \r\nQ 30.859375 57.171875 28.375 50.390625 \r\nz\r\n\" id=\"ArialMT-65\"/>\r\n      <path d=\"M 40.4375 19 \r\nL 49.078125 17.875 \r\nQ 47.65625 8.9375 41.8125 3.875 \r\nQ 35.984375 -1.171875 27.484375 -1.171875 \r\nQ 16.84375 -1.171875 10.375 5.78125 \r\nQ 3.90625 12.75 3.90625 25.734375 \r\nQ 3.90625 34.125 6.6875 40.421875 \r\nQ 9.46875 46.734375 15.15625 49.875 \r\nQ 20.84375 53.03125 27.546875 53.03125 \r\nQ 35.984375 53.03125 41.359375 48.75 \r\nQ 46.734375 44.484375 48.25 36.625 \r\nL 39.703125 35.296875 \r\nQ 38.484375 40.53125 35.375 43.15625 \r\nQ 32.28125 45.796875 27.875 45.796875 \r\nQ 21.234375 45.796875 17.078125 41.03125 \r\nQ 12.9375 36.28125 12.9375 25.984375 \r\nQ 12.9375 15.53125 16.9375 10.796875 \r\nQ 20.953125 6.0625 27.390625 6.0625 \r\nQ 32.5625 6.0625 36.03125 9.234375 \r\nQ 39.5 12.40625 40.4375 19 \r\nz\r\n\" id=\"ArialMT-99\"/>\r\n      <path d=\"M 40.578125 0 \r\nL 40.578125 7.625 \r\nQ 34.515625 -1.171875 24.125 -1.171875 \r\nQ 19.53125 -1.171875 15.546875 0.578125 \r\nQ 11.578125 2.34375 9.640625 5 \r\nQ 7.71875 7.671875 6.9375 11.53125 \r\nQ 6.390625 14.109375 6.390625 19.734375 \r\nL 6.390625 51.859375 \r\nL 15.1875 51.859375 \r\nL 15.1875 23.09375 \r\nQ 15.1875 16.21875 15.71875 13.8125 \r\nQ 16.546875 10.359375 19.234375 8.375 \r\nQ 21.921875 6.390625 25.875 6.390625 \r\nQ 29.828125 6.390625 33.296875 8.421875 \r\nQ 36.765625 10.453125 38.203125 13.9375 \r\nQ 39.65625 17.4375 39.65625 24.078125 \r\nL 39.65625 51.859375 \r\nL 48.4375 51.859375 \r\nL 48.4375 0 \r\nz\r\n\" id=\"ArialMT-117\"/>\r\n      <path d=\"M 6.203125 -19.96875 \r\nL 5.21875 -11.71875 \r\nQ 8.109375 -12.5 10.25 -12.5 \r\nQ 13.1875 -12.5 14.9375 -11.515625 \r\nQ 16.703125 -10.546875 17.828125 -8.796875 \r\nQ 18.65625 -7.46875 20.515625 -2.25 \r\nQ 20.75 -1.515625 21.296875 -0.09375 \r\nL 1.609375 51.859375 \r\nL 11.078125 51.859375 \r\nL 21.875 21.828125 \r\nQ 23.96875 16.109375 25.640625 9.8125 \r\nQ 27.15625 15.875 29.25 21.625 \r\nL 40.328125 51.859375 \r\nL 49.125 51.859375 \r\nL 29.390625 -0.875 \r\nQ 26.21875 -9.421875 24.46875 -12.640625 \r\nQ 22.125 -17 19.09375 -19.015625 \r\nQ 16.0625 -21.046875 11.859375 -21.046875 \r\nQ 9.328125 -21.046875 6.203125 -19.96875 \r\nz\r\n\" id=\"ArialMT-121\"/>\r\n     </defs>\r\n     <g style=\"fill:#262626;\" transform=\"translate(15.789375 155.1825)rotate(-90)scale(0.12 -0.12)\">\r\n      <use xlink:href=\"#ArialMT-65\"/>\r\n      <use x=\"66.699219\" xlink:href=\"#ArialMT-99\"/>\r\n      <use x=\"116.699219\" xlink:href=\"#ArialMT-99\"/>\r\n      <use x=\"166.699219\" xlink:href=\"#ArialMT-117\"/>\r\n      <use x=\"222.314453\" xlink:href=\"#ArialMT-114\"/>\r\n      <use x=\"255.615234\" xlink:href=\"#ArialMT-97\"/>\r\n      <use x=\"311.230469\" xlink:href=\"#ArialMT-99\"/>\r\n      <use x=\"361.230469\" xlink:href=\"#ArialMT-121\"/>\r\n     </g>\r\n    </g>\r\n   </g>\r\n   <g id=\"line2d_14\">\r\n    <path clip-path=\"url(#p2e7e889f8f)\" d=\"M 74.557244 229.345739 \r\nL 150.648153 228.202216 \r\nL 226.739063 227.058693 \r\nL 302.829972 153.924657 \r\nL 378.920881 31.673011 \r\n\" style=\"fill:none;stroke:#4c72b0;stroke-linecap:round;stroke-width:1.5;\"/>\r\n   </g>\r\n   <g id=\"patch_3\">\r\n    <path d=\"M 59.339063 239.229375 \r\nL 59.339063 21.789375 \r\n\" style=\"fill:none;stroke:#ffffff;stroke-linecap:square;stroke-linejoin:miter;stroke-width:1.25;\"/>\r\n   </g>\r\n   <g id=\"patch_4\">\r\n    <path d=\"M 394.139063 239.229375 \r\nL 394.139063 21.789375 \r\n\" style=\"fill:none;stroke:#ffffff;stroke-linecap:square;stroke-linejoin:miter;stroke-width:1.25;\"/>\r\n   </g>\r\n   <g id=\"patch_5\">\r\n    <path d=\"M 59.339063 239.229375 \r\nL 394.139063 239.229375 \r\n\" style=\"fill:none;stroke:#ffffff;stroke-linecap:square;stroke-linejoin:miter;stroke-width:1.25;\"/>\r\n   </g>\r\n   <g id=\"patch_6\">\r\n    <path d=\"M 59.339063 21.789375 \r\nL 394.139063 21.789375 \r\n\" style=\"fill:none;stroke:#ffffff;stroke-linecap:square;stroke-linejoin:miter;stroke-width:1.25;\"/>\r\n   </g>\r\n   <g id=\"text_16\">\r\n    <!-- GaussianNB - 10-fold - Seeds -->\r\n    <defs>\r\n     <path d=\"M 41.21875 28.078125 \r\nL 41.21875 36.46875 \r\nL 71.53125 36.53125 \r\nL 71.53125 9.96875 \r\nQ 64.546875 4.390625 57.125 1.578125 \r\nQ 49.703125 -1.21875 41.890625 -1.21875 \r\nQ 31.34375 -1.21875 22.71875 3.296875 \r\nQ 14.109375 7.8125 9.71875 16.359375 \r\nQ 5.328125 24.90625 5.328125 35.453125 \r\nQ 5.328125 45.90625 9.6875 54.953125 \r\nQ 14.0625 64.015625 22.265625 68.40625 \r\nQ 30.46875 72.796875 41.15625 72.796875 \r\nQ 48.921875 72.796875 55.1875 70.28125 \r\nQ 61.46875 67.78125 65.03125 63.28125 \r\nQ 68.609375 58.796875 70.453125 51.5625 \r\nL 61.921875 49.21875 \r\nQ 60.296875 54.6875 57.90625 57.8125 \r\nQ 55.515625 60.9375 51.0625 62.8125 \r\nQ 46.625 64.703125 41.21875 64.703125 \r\nQ 34.71875 64.703125 29.984375 62.71875 \r\nQ 25.25 60.75 22.34375 57.515625 \r\nQ 19.4375 54.296875 17.828125 50.4375 \r\nQ 15.09375 43.796875 15.09375 36.03125 \r\nQ 15.09375 26.46875 18.390625 20.015625 \r\nQ 21.6875 13.578125 27.984375 10.453125 \r\nQ 34.28125 7.328125 41.359375 7.328125 \r\nQ 47.515625 7.328125 53.375 9.6875 \r\nQ 59.234375 12.0625 62.25 14.75 \r\nL 62.25 28.078125 \r\nz\r\n\" id=\"ArialMT-71\"/>\r\n     <path d=\"M 7.625 0 \r\nL 7.625 71.578125 \r\nL 17.328125 71.578125 \r\nL 54.9375 15.375 \r\nL 54.9375 71.578125 \r\nL 64.015625 71.578125 \r\nL 64.015625 0 \r\nL 54.296875 0 \r\nL 16.703125 56.25 \r\nL 16.703125 0 \r\nz\r\n\" id=\"ArialMT-78\"/>\r\n     <path d=\"M 7.328125 0 \r\nL 7.328125 71.578125 \r\nL 34.1875 71.578125 \r\nQ 42.390625 71.578125 47.34375 69.40625 \r\nQ 52.296875 67.234375 55.09375 62.71875 \r\nQ 57.90625 58.203125 57.90625 53.265625 \r\nQ 57.90625 48.6875 55.421875 44.625 \r\nQ 52.9375 40.578125 47.90625 38.09375 \r\nQ 54.390625 36.1875 57.875 31.59375 \r\nQ 61.375 27 61.375 20.75 \r\nQ 61.375 15.71875 59.25 11.390625 \r\nQ 57.125 7.078125 54 4.734375 \r\nQ 50.875 2.390625 46.15625 1.1875 \r\nQ 41.453125 0 34.625 0 \r\nz\r\nM 16.796875 41.5 \r\nL 32.28125 41.5 \r\nQ 38.578125 41.5 41.3125 42.328125 \r\nQ 44.921875 43.40625 46.75 45.890625 \r\nQ 48.578125 48.390625 48.578125 52.15625 \r\nQ 48.578125 55.71875 46.875 58.421875 \r\nQ 45.171875 61.140625 41.984375 62.140625 \r\nQ 38.8125 63.140625 31.109375 63.140625 \r\nL 16.796875 63.140625 \r\nz\r\nM 16.796875 8.453125 \r\nL 34.625 8.453125 \r\nQ 39.203125 8.453125 41.0625 8.796875 \r\nQ 44.34375 9.375 46.53125 10.734375 \r\nQ 48.734375 12.109375 50.140625 14.71875 \r\nQ 51.5625 17.328125 51.5625 20.75 \r\nQ 51.5625 24.75 49.515625 27.703125 \r\nQ 47.46875 30.671875 43.828125 31.859375 \r\nQ 40.1875 33.0625 33.34375 33.0625 \r\nL 16.796875 33.0625 \r\nz\r\n\" id=\"ArialMT-66\"/>\r\n     <path id=\"ArialMT-32\"/>\r\n     <path d=\"M 8.6875 0 \r\nL 8.6875 45.015625 \r\nL 0.921875 45.015625 \r\nL 0.921875 51.859375 \r\nL 8.6875 51.859375 \r\nL 8.6875 57.375 \r\nQ 8.6875 62.59375 9.625 65.140625 \r\nQ 10.890625 68.5625 14.078125 70.671875 \r\nQ 17.28125 72.796875 23.046875 72.796875 \r\nQ 26.765625 72.796875 31.25 71.921875 \r\nL 29.9375 64.265625 \r\nQ 27.203125 64.75 24.75 64.75 \r\nQ 20.75 64.75 19.09375 63.03125 \r\nQ 17.4375 61.328125 17.4375 56.640625 \r\nL 17.4375 51.859375 \r\nL 27.546875 51.859375 \r\nL 27.546875 45.015625 \r\nL 17.4375 45.015625 \r\nL 17.4375 0 \r\nz\r\n\" id=\"ArialMT-102\"/>\r\n     <path d=\"M 6.390625 0 \r\nL 6.390625 71.578125 \r\nL 15.1875 71.578125 \r\nL 15.1875 0 \r\nz\r\n\" id=\"ArialMT-108\"/>\r\n     <path d=\"M 40.234375 0 \r\nL 40.234375 6.546875 \r\nQ 35.296875 -1.171875 25.734375 -1.171875 \r\nQ 19.53125 -1.171875 14.328125 2.25 \r\nQ 9.125 5.671875 6.265625 11.796875 \r\nQ 3.421875 17.921875 3.421875 25.875 \r\nQ 3.421875 33.640625 6 39.96875 \r\nQ 8.59375 46.296875 13.765625 49.65625 \r\nQ 18.953125 53.03125 25.34375 53.03125 \r\nQ 30.03125 53.03125 33.6875 51.046875 \r\nQ 37.359375 49.078125 39.65625 45.90625 \r\nL 39.65625 71.578125 \r\nL 48.390625 71.578125 \r\nL 48.390625 0 \r\nz\r\nM 12.453125 25.875 \r\nQ 12.453125 15.921875 16.640625 10.984375 \r\nQ 20.84375 6.0625 26.5625 6.0625 \r\nQ 32.328125 6.0625 36.34375 10.765625 \r\nQ 40.375 15.484375 40.375 25.140625 \r\nQ 40.375 35.796875 36.265625 40.765625 \r\nQ 32.171875 45.75 26.171875 45.75 \r\nQ 20.3125 45.75 16.375 40.96875 \r\nQ 12.453125 36.1875 12.453125 25.875 \r\nz\r\n\" id=\"ArialMT-100\"/>\r\n     <path d=\"M 4.5 23 \r\nL 13.421875 23.78125 \r\nQ 14.0625 18.40625 16.375 14.96875 \r\nQ 18.703125 11.53125 23.578125 9.40625 \r\nQ 28.46875 7.28125 34.578125 7.28125 \r\nQ 39.984375 7.28125 44.140625 8.890625 \r\nQ 48.296875 10.5 50.3125 13.296875 \r\nQ 52.34375 16.109375 52.34375 19.4375 \r\nQ 52.34375 22.796875 50.390625 25.3125 \r\nQ 48.4375 27.828125 43.953125 29.546875 \r\nQ 41.0625 30.671875 31.203125 33.03125 \r\nQ 21.34375 35.40625 17.390625 37.5 \r\nQ 12.25 40.1875 9.734375 44.15625 \r\nQ 7.234375 48.140625 7.234375 53.078125 \r\nQ 7.234375 58.5 10.296875 63.203125 \r\nQ 13.375 67.921875 19.28125 70.359375 \r\nQ 25.203125 72.796875 32.421875 72.796875 \r\nQ 40.375 72.796875 46.453125 70.234375 \r\nQ 52.546875 67.671875 55.8125 62.6875 \r\nQ 59.078125 57.71875 59.328125 51.421875 \r\nL 50.25 50.734375 \r\nQ 49.515625 57.515625 45.28125 60.984375 \r\nQ 41.0625 64.453125 32.8125 64.453125 \r\nQ 24.21875 64.453125 20.28125 61.296875 \r\nQ 16.359375 58.15625 16.359375 53.71875 \r\nQ 16.359375 49.859375 19.140625 47.359375 \r\nQ 21.875 44.875 33.421875 42.265625 \r\nQ 44.96875 39.65625 49.265625 37.703125 \r\nQ 55.515625 34.8125 58.484375 30.390625 \r\nQ 61.46875 25.984375 61.46875 20.21875 \r\nQ 61.46875 14.5 58.203125 9.4375 \r\nQ 54.9375 4.390625 48.796875 1.578125 \r\nQ 42.671875 -1.21875 35.015625 -1.21875 \r\nQ 25.296875 -1.21875 18.71875 1.609375 \r\nQ 12.15625 4.4375 8.421875 10.125 \r\nQ 4.6875 15.828125 4.5 23 \r\nz\r\n\" id=\"ArialMT-83\"/>\r\n    </defs>\r\n    <g style=\"fill:#262626;\" transform=\"translate(147.038438 15.789375)scale(0.12 -0.12)\">\r\n     <use xlink:href=\"#ArialMT-71\"/>\r\n     <use x=\"77.783203\" xlink:href=\"#ArialMT-97\"/>\r\n     <use x=\"133.398438\" xlink:href=\"#ArialMT-117\"/>\r\n     <use x=\"189.013672\" xlink:href=\"#ArialMT-115\"/>\r\n     <use x=\"239.013672\" xlink:href=\"#ArialMT-115\"/>\r\n     <use x=\"289.013672\" xlink:href=\"#ArialMT-105\"/>\r\n     <use x=\"311.230469\" xlink:href=\"#ArialMT-97\"/>\r\n     <use x=\"366.845703\" xlink:href=\"#ArialMT-110\"/>\r\n     <use x=\"422.460938\" xlink:href=\"#ArialMT-78\"/>\r\n     <use x=\"494.677734\" xlink:href=\"#ArialMT-66\"/>\r\n     <use x=\"561.376953\" xlink:href=\"#ArialMT-32\"/>\r\n     <use x=\"589.160156\" xlink:href=\"#ArialMT-45\"/>\r\n     <use x=\"622.460938\" xlink:href=\"#ArialMT-32\"/>\r\n     <use x=\"650.244141\" xlink:href=\"#ArialMT-49\"/>\r\n     <use x=\"705.859375\" xlink:href=\"#ArialMT-48\"/>\r\n     <use x=\"761.474609\" xlink:href=\"#ArialMT-45\"/>\r\n     <use x=\"794.775391\" xlink:href=\"#ArialMT-102\"/>\r\n     <use x=\"822.558594\" xlink:href=\"#ArialMT-111\"/>\r\n     <use x=\"878.173828\" xlink:href=\"#ArialMT-108\"/>\r\n     <use x=\"900.390625\" xlink:href=\"#ArialMT-100\"/>\r\n     <use x=\"956.005859\" xlink:href=\"#ArialMT-32\"/>\r\n     <use x=\"983.789062\" xlink:href=\"#ArialMT-45\"/>\r\n     <use x=\"1017.089844\" xlink:href=\"#ArialMT-32\"/>\r\n     <use x=\"1044.873047\" xlink:href=\"#ArialMT-83\"/>\r\n     <use x=\"1111.572266\" xlink:href=\"#ArialMT-101\"/>\r\n     <use x=\"1167.1875\" xlink:href=\"#ArialMT-101\"/>\r\n     <use x=\"1222.802734\" xlink:href=\"#ArialMT-100\"/>\r\n     <use x=\"1278.417969\" xlink:href=\"#ArialMT-115\"/>\r\n    </g>\r\n   </g>\r\n  </g>\r\n </g>\r\n <defs>\r\n  <clipPath id=\"p2e7e889f8f\">\r\n   <rect height=\"217.44\" width=\"334.8\" x=\"59.339063\" y=\"21.789375\"/>\r\n  </clipPath>\r\n </defs>\r\n</svg>\r\n",
      "image/png": "[encoded data removed]"
     },
     "metadata": {}
    }
   ],
   "source": [
    "#GaussianNB\n",
    "kf = KFold(n_splits=10)\n",
    "performance_dict = {}\n",
    "var_sm_list = [1e-10, 1e-9, 1e-5, 1e-3, 1e-1]\n",
    "for var_sm in var_sm_list:\n",
    "    acc = []\n",
    "    for train_index,val_index in kf.split(X_train):\n",
    "        clf = GaussianNB(var_smoothing=var_sm)\n",
    "        X_Tr = X_train.iloc[train_index,:]\n",
    "        Y_Tr = Y_train.iloc[train_index,:]\n",
    "        X_V = X_train.iloc[val_index,:]\n",
    "        Y_V = Y_train.iloc[val_index,:]\n",
    "        clf = clf.fit(X_Tr, Y_Tr)\n",
    "        Y_P = clf.predict(X_V)\n",
    "        acc.append(metrics.accuracy_score(Y_V, Y_P))\n",
    "    performance_dict[var_sm] = np.mean(acc)\n",
    "accuracies = list(performance_dict.values())\n",
    "plt.title(\"GaussianNB - 10-fold - Seeds\")\n",
    "plt.plot([1,2,3,4,5], accuracies)\n",
    "plt.xticks([1,2,3,4,5],['1e-10','1e-9','1e-5','1e-3','1e-1'])\n",
    "plt.xlabel('var_smoothing')\n",
    "plt.ylabel('Accuracy')\n"
   ]
  },
  {
   "cell_type": "code",
   "execution_count": 36,
   "metadata": {},
   "outputs": [
    {
     "output_type": "stream",
     "name": "stdout",
     "text": [
      "Class variance\n[[9.83823470e-01 5.20521904e-10 2.46544940e-01 5.20521904e-10\n  2.45565471e-01 7.75146536e-03 6.28440719e-03 3.02734380e-02\n  2.96733329e-03 3.89062450e-02 5.20521904e-10]\n [5.84442344e+00 5.20521904e-10 2.42360611e-01 5.20521904e-10\n  2.39948521e-01 1.26882593e-02 9.83207888e-02 4.29633037e-02\n  1.14343024e-02 1.39174339e-01 5.20521904e-10]\n [6.13009496e+00 5.20521904e-10 2.42355699e-01 5.20521904e-10\n  2.41114620e-01 6.78394450e-03 1.11924812e-01 2.26846880e-02\n  2.00718898e-02 1.43395966e-01 1.36425445e-03]]\nAdded epsilon to the feature variances\n5.205219039625259e-10\nClass variance\n[[9.83823474e-01 5.20521904e-09 2.46544945e-01 5.20521904e-09\n  2.45565476e-01 7.75147005e-03 6.28441187e-03 3.02734427e-02\n  2.96733797e-03 3.89062497e-02 5.20521904e-09]\n [5.84442345e+00 5.20521904e-09 2.42360616e-01 5.20521904e-09\n  2.39948525e-01 1.26882639e-02 9.83207935e-02 4.29633084e-02\n  1.14343071e-02 1.39174343e-01 5.20521904e-09]\n [6.13009496e+00 5.20521904e-09 2.42355704e-01 5.20521904e-09\n  2.41114625e-01 6.78394919e-03 1.11924816e-01 2.26846927e-02\n  2.00718945e-02 1.43395971e-01 1.36425914e-03]]\nAdded epsilon to the feature variances\n5.205219039625259e-09\nClass variance\n[[9.83875521e-01 5.20521904e-05 2.46596992e-01 5.20521904e-05\n  2.45617523e-01 7.80351703e-03 6.33645886e-03 3.03254897e-02\n  3.01938496e-03 3.89582967e-02 5.20521904e-05]\n [5.84447550e+00 5.20521904e-05 2.42412663e-01 5.20521904e-05\n  2.40000572e-01 1.27403109e-02 9.83728404e-02 4.30153554e-02\n  1.14863541e-02 1.39226390e-01 5.20521904e-05]\n [6.13014701e+00 5.20521904e-05 2.42407751e-01 5.20521904e-05\n  2.41166672e-01 6.83599617e-03 1.11976863e-01 2.27367397e-02\n  2.01239415e-02 1.43448018e-01 1.41630612e-03]]\nAdded epsilon to the feature variances\n5.2052190396252586e-05\nClass variance\n[[9.89028688e-01 5.20521904e-03 2.51750159e-01 5.20521904e-03\n  2.50770690e-01 1.29566839e-02 1.14896257e-02 3.54786565e-02\n  8.17255181e-03 4.41114635e-02 5.20521904e-03]\n [5.84962866e+00 5.20521904e-03 2.47565830e-01 5.20521904e-03\n  2.45153739e-01 1.78934778e-02 1.03526007e-01 4.81685222e-02\n  1.66395210e-02 1.44379557e-01 5.20521904e-03]\n [6.13530018e+00 5.20521904e-03 2.47560918e-01 5.20521904e-03\n  2.46319839e-01 1.19891630e-02 1.17130030e-01 2.78899065e-02\n  2.52771083e-02 1.48601185e-01 6.56947297e-03]]\nAdded epsilon to the feature variances\n0.0052052190396252584\nClass variance\n[[1.50434537 0.5205219  0.76706684 0.5205219  0.76608737 0.52827337\n  0.52680631 0.55079534 0.52348924 0.55942815 0.5205219 ]\n [6.36494535 0.5205219  0.76288251 0.5205219  0.76047042 0.53321016\n  0.61884269 0.56348521 0.53195621 0.65969624 0.5205219 ]\n [6.65061686 0.5205219  0.7628776  0.5205219  0.76163652 0.52730585\n  0.63244672 0.54320659 0.54059379 0.66391787 0.52188616]]\nAdded epsilon to the feature variances\n0.5205219039625258\n"
     ]
    }
   ],
   "source": [
    "#GaussianNB\n",
    "kf = KFold(n_splits=10)\n",
    "performance_dict = {}\n",
    "var_sm_list = [1e-10, 1e-9, 1e-5, 1e-3, 1e-1]\n",
    "for var_sm in var_sm_list:\n",
    "    clf = GaussianNB(var_smoothing=var_sm)\n",
    "    X_Tr = X_train.iloc[train_index,:]\n",
    "    Y_Tr = Y_train.iloc[train_index,:]\n",
    "    X_V = X_train.iloc[val_index,:]\n",
    "    Y_V = Y_train.iloc[val_index,:]\n",
    "    clf = clf.fit(X_Tr, Y_Tr)\n",
    "    Y_P = clf.predict(X_V)\n",
    "    acc.append(metrics.accuracy_score(Y_V, Y_P))\n",
    "    print(\"Class variance\")\n",
    "    print(clf.sigma_)\n",
    "    print(\"Added epsilon to the feature variances\")\n",
    "    print(clf.epsilon_)"
   ]
  },
  {
   "cell_type": "code",
   "execution_count": 37,
   "metadata": {},
   "outputs": [
    {
     "output_type": "execute_result",
     "data": {
      "text/plain": [
       "       Age_Group  Outbreak_Related  Gender_FEMALE  Gender_GENDER DIVERSE  \\\n",
       "11928          7                 1              1                      0   \n",
       "1466           8                 1              0                      0   \n",
       "14686          3                 1              1                      0   \n",
       "14451          9                 1              1                      0   \n",
       "8281           1                 1              0                      0   \n",
       "...          ...               ...            ...                    ...   \n",
       "10957          8                 1              0                      0   \n",
       "5898           8                 1              0                      0   \n",
       "13538          6                 1              0                      0   \n",
       "11765          8                 1              1                      0   \n",
       "5980           9                 1              0                      0   \n",
       "\n",
       "       Gender_MALE  Gender_UNSPECIFIED  Case_Aq_CC  \\\n",
       "11928            0                   0           0   \n",
       "1466             1                   0           0   \n",
       "14686            0                   0           0   \n",
       "14451            0                   0           0   \n",
       "8281             1                   0           0   \n",
       "...            ...                 ...         ...   \n",
       "10957            1                   0           0   \n",
       "5898             1                   0           0   \n",
       "13538            1                   0           0   \n",
       "11765            0                   0           0   \n",
       "5980             1                   0           0   \n",
       "\n",
       "       Case_Aq_MISSING INFORMATION  Case_Aq_NO KNOWN EPI LINK  Case_Aq_OB  \\\n",
       "11928                            0                          0           1   \n",
       "1466                             0                          0           1   \n",
       "14686                            0                          0           1   \n",
       "14451                            0                          0           1   \n",
       "8281                             0                          0           1   \n",
       "...                            ...                        ...         ...   \n",
       "10957                            0                          0           1   \n",
       "5898                             0                          0           1   \n",
       "13538                            0                          0           1   \n",
       "11765                            0                          0           1   \n",
       "5980                             0                          0           1   \n",
       "\n",
       "       Case_Aq_TRAVEL  \n",
       "11928               0  \n",
       "1466                0  \n",
       "14686               0  \n",
       "14451               0  \n",
       "8281                0  \n",
       "...               ...  \n",
       "10957               0  \n",
       "5898                0  \n",
       "13538               0  \n",
       "11765               0  \n",
       "5980                0  \n",
       "\n",
       "[4664 rows x 11 columns]"
      ],
      "text/html": "<div>\n<style scoped>\n    .dataframe tbody tr th:only-of-type {\n        vertical-align: middle;\n    }\n\n    .dataframe tbody tr th {\n        vertical-align: top;\n    }\n\n    .dataframe thead th {\n        text-align: right;\n    }\n</style>\n<table border=\"1\" class=\"dataframe\">\n  <thead>\n    <tr style=\"text-align: right;\">\n      <th></th>\n      <th>Age_Group</th>\n      <th>Outbreak_Related</th>\n      <th>Gender_FEMALE</th>\n      <th>Gender_GENDER DIVERSE</th>\n      <th>Gender_MALE</th>\n      <th>Gender_UNSPECIFIED</th>\n      <th>Case_Aq_CC</th>\n      <th>Case_Aq_MISSING INFORMATION</th>\n      <th>Case_Aq_NO KNOWN EPI LINK</th>\n      <th>Case_Aq_OB</th>\n      <th>Case_Aq_TRAVEL</th>\n    </tr>\n  </thead>\n  <tbody>\n    <tr>\n      <th>11928</th>\n      <td>7</td>\n      <td>1</td>\n      <td>1</td>\n      <td>0</td>\n      <td>0</td>\n      <td>0</td>\n      <td>0</td>\n      <td>0</td>\n      <td>0</td>\n      <td>1</td>\n      <td>0</td>\n    </tr>\n    <tr>\n      <th>1466</th>\n      <td>8</td>\n      <td>1</td>\n      <td>0</td>\n      <td>0</td>\n      <td>1</td>\n      <td>0</td>\n      <td>0</td>\n      <td>0</td>\n      <td>0</td>\n      <td>1</td>\n      <td>0</td>\n    </tr>\n    <tr>\n      <th>14686</th>\n      <td>3</td>\n      <td>1</td>\n      <td>1</td>\n      <td>0</td>\n      <td>0</td>\n      <td>0</td>\n      <td>0</td>\n      <td>0</td>\n      <td>0</td>\n      <td>1</td>\n      <td>0</td>\n    </tr>\n    <tr>\n      <th>14451</th>\n      <td>9</td>\n      <td>1</td>\n      <td>1</td>\n      <td>0</td>\n      <td>0</td>\n      <td>0</td>\n      <td>0</td>\n      <td>0</td>\n      <td>0</td>\n      <td>1</td>\n      <td>0</td>\n    </tr>\n    <tr>\n      <th>8281</th>\n      <td>1</td>\n      <td>1</td>\n      <td>0</td>\n      <td>0</td>\n      <td>1</td>\n      <td>0</td>\n      <td>0</td>\n      <td>0</td>\n      <td>0</td>\n      <td>1</td>\n      <td>0</td>\n    </tr>\n    <tr>\n      <th>...</th>\n      <td>...</td>\n      <td>...</td>\n      <td>...</td>\n      <td>...</td>\n      <td>...</td>\n      <td>...</td>\n      <td>...</td>\n      <td>...</td>\n      <td>...</td>\n      <td>...</td>\n      <td>...</td>\n    </tr>\n    <tr>\n      <th>10957</th>\n      <td>8</td>\n      <td>1</td>\n      <td>0</td>\n      <td>0</td>\n      <td>1</td>\n      <td>0</td>\n      <td>0</td>\n      <td>0</td>\n      <td>0</td>\n      <td>1</td>\n      <td>0</td>\n    </tr>\n    <tr>\n      <th>5898</th>\n      <td>8</td>\n      <td>1</td>\n      <td>0</td>\n      <td>0</td>\n      <td>1</td>\n      <td>0</td>\n      <td>0</td>\n      <td>0</td>\n      <td>0</td>\n      <td>1</td>\n      <td>0</td>\n    </tr>\n    <tr>\n      <th>13538</th>\n      <td>6</td>\n      <td>1</td>\n      <td>0</td>\n      <td>0</td>\n      <td>1</td>\n      <td>0</td>\n      <td>0</td>\n      <td>0</td>\n      <td>0</td>\n      <td>1</td>\n      <td>0</td>\n    </tr>\n    <tr>\n      <th>11765</th>\n      <td>8</td>\n      <td>1</td>\n      <td>1</td>\n      <td>0</td>\n      <td>0</td>\n      <td>0</td>\n      <td>0</td>\n      <td>0</td>\n      <td>0</td>\n      <td>1</td>\n      <td>0</td>\n    </tr>\n    <tr>\n      <th>5980</th>\n      <td>9</td>\n      <td>1</td>\n      <td>0</td>\n      <td>0</td>\n      <td>1</td>\n      <td>0</td>\n      <td>0</td>\n      <td>0</td>\n      <td>0</td>\n      <td>1</td>\n      <td>0</td>\n    </tr>\n  </tbody>\n</table>\n<p>4664 rows × 11 columns</p>\n</div>"
     },
     "metadata": {},
     "execution_count": 37
    }
   ],
   "source": [
    "X_train"
   ]
  },
  {
   "cell_type": "code",
   "execution_count": null,
   "metadata": {},
   "outputs": [],
   "source": []
  }
 ],
 "metadata": {
  "kernelspec": {
   "display_name": "Python 3",
   "language": "python",
   "name": "python3"
  },
  "language_info": {
   "codemirror_mode": {
    "name": "ipython",
    "version": 3
   },
   "file_extension": ".py",
   "mimetype": "text/x-python",
   "name": "python",
   "nbconvert_exporter": "python",
   "pygments_lexer": "ipython3",
   "version": "3.8.4-final"
  }
 },
 "nbformat": 4,
 "nbformat_minor": 4
}